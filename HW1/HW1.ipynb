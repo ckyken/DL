{
 "cells": [
  {
   "cell_type": "code",
   "execution_count": 1,
   "metadata": {},
   "outputs": [],
   "source": [
    "import numpy as np\n",
    "from sklearn import preprocessing"
   ]
  },
  {
   "cell_type": "code",
   "execution_count": 2,
   "metadata": {},
   "outputs": [],
   "source": [
    "test = np.load('test.npz')\n",
    "train = np.load('train.npz')"
   ]
  },
  {
   "cell_type": "code",
   "execution_count": 3,
   "metadata": {},
   "outputs": [
    {
     "data": {
      "text/plain": [
       "['image', 'label']"
      ]
     },
     "execution_count": 3,
     "metadata": {},
     "output_type": "execute_result"
    }
   ],
   "source": [
    "list(test.keys())"
   ]
  },
  {
   "cell_type": "code",
   "execution_count": 4,
   "metadata": {},
   "outputs": [
    {
     "data": {
      "text/plain": [
       "array([[[  0.,   0.,   0., ...,   0.,   0.,   0.],\n",
       "        [  0.,   0.,   0., ...,   0.,   0.,   0.],\n",
       "        [  0.,   0.,   0., ...,   0.,   0.,   0.],\n",
       "        ...,\n",
       "        [  0.,   0.,   0., ...,   0.,   0.,   0.],\n",
       "        [  0.,   0.,   0., ...,   0.,   0.,   0.],\n",
       "        [  0.,   0.,   0., ...,   0.,   0.,   0.]],\n",
       "\n",
       "       [[  0.,   0.,   0., ...,   0.,   0.,   0.],\n",
       "        [  0.,   0.,   0., ...,   0.,   0.,   0.],\n",
       "        [  0.,   0.,   0., ...,   0.,   0.,   0.],\n",
       "        ...,\n",
       "        [  0.,   0.,   0., ...,   0.,   0.,   0.],\n",
       "        [  0.,   0.,   0., ...,   0.,   0.,   0.],\n",
       "        [  0.,   0.,   0., ...,   0.,   0.,   0.]],\n",
       "\n",
       "       [[  0.,   0.,   0., ...,   0.,   0.,   0.],\n",
       "        [  0.,   0.,   0., ...,   0.,   0.,   0.],\n",
       "        [  0.,   0.,   0., ..., 139.,  53.,   0.],\n",
       "        ...,\n",
       "        [  0.,   0.,   0., ...,   0.,   0.,   0.],\n",
       "        [  0.,   0.,   0., ...,   0.,   0.,   0.],\n",
       "        [  0.,   0.,   0., ...,   0.,   0.,   0.]],\n",
       "\n",
       "       ...,\n",
       "\n",
       "       [[  0.,   0.,   0., ...,   0.,   0.,   0.],\n",
       "        [  0.,   0.,   0., ...,   0.,   0.,   0.],\n",
       "        [  0.,   0.,   0., ...,   0.,   0.,   0.],\n",
       "        ...,\n",
       "        [  0.,   0.,   0., ...,   0.,   0.,   0.],\n",
       "        [  0.,   0.,   0., ...,   0.,   0.,   0.],\n",
       "        [  0.,   0.,   0., ...,   0.,   0.,   0.]],\n",
       "\n",
       "       [[  0.,   0.,   0., ...,   0.,   0.,   0.],\n",
       "        [  0.,   0.,   0., ...,   0.,   0.,   0.],\n",
       "        [  0.,   0.,   0., ...,   0.,   0.,   0.],\n",
       "        ...,\n",
       "        [  0.,   0.,   0., ...,   0.,   0.,   0.],\n",
       "        [  0.,   0.,   0., ...,   0.,   0.,   0.],\n",
       "        [  0.,   0.,   0., ...,   0.,   0.,   0.]],\n",
       "\n",
       "       [[  0.,   0.,   0., ...,   0.,   0.,   0.],\n",
       "        [  0.,   0.,   0., ...,   0.,   0.,   0.],\n",
       "        [  0.,   0.,   0., ...,   0.,   0.,   0.],\n",
       "        ...,\n",
       "        [  0.,   0.,   0., ...,   0.,   0.,   0.],\n",
       "        [  0.,   0.,   0., ...,   0.,   0.,   0.],\n",
       "        [  0.,   0.,   0., ...,   0.,   0.,   0.]]])"
      ]
     },
     "execution_count": 4,
     "metadata": {},
     "output_type": "execute_result"
    }
   ],
   "source": [
    "test['image']"
   ]
  },
  {
   "cell_type": "code",
   "execution_count": 5,
   "metadata": {},
   "outputs": [
    {
     "data": {
      "text/plain": [
       "array([5., 6., 1., ..., 7., 4., 7.])"
      ]
     },
     "execution_count": 5,
     "metadata": {},
     "output_type": "execute_result"
    }
   ],
   "source": [
    "test['label']"
   ]
  },
  {
   "cell_type": "code",
   "execution_count": 6,
   "metadata": {},
   "outputs": [],
   "source": [
    "y_test = test['label'][:100]\n",
    "X_test = test['image'][:100]\n",
    "y_train = train['label'][:100]\n",
    "X_train = train['image'][:100]\n",
    "\n",
    "lb = preprocessing.LabelBinarizer()\n",
    "\n",
    "y_train = lb.fit_transform(y_train).reshape(10, -1)\n",
    "X_train = X_train.reshape(X_train.shape[1] * X_train.shape[2], -1)\n",
    "y_test = lb.fit_transform(y_test).reshape(10, -1)\n",
    "X_test = X_test.reshape(X_test.shape[1] * X_test.shape[2], -1)"
   ]
  },
  {
   "cell_type": "code",
   "execution_count": 7,
   "metadata": {},
   "outputs": [],
   "source": [
    "X_train[X_train >= 100] = 1\n",
    "X_train[X_train < 100] = 0"
   ]
  },
  {
   "cell_type": "code",
   "execution_count": null,
   "metadata": {},
   "outputs": [],
   "source": []
  },
  {
   "cell_type": "code",
   "execution_count": 8,
   "metadata": {},
   "outputs": [],
   "source": [
    "class Layer:\n",
    "    def __init__(self, last_layer_num, node_num, activation_function=None, custom_W=None, custom_b=None):\n",
    "        self.__node_num = node_num  #output_dim\n",
    "        self.__last_layer_num = last_layer_num  #input_dim\n",
    "\n",
    "        \n",
    "        self.__layer_input = None\n",
    "        self.activation = activation_function\n",
    "        \n",
    "        if custom_W is not None:\n",
    "            self.W_ = custom_W\n",
    "        else:\n",
    "            limit = 1 / np.sqrt(self.__last_layer_num)\n",
    "            self.W_ = np.random.uniform(-limit, limit, (self.__last_layer_num, self.__node_num))\n",
    "        \n",
    "        if custom_b is not None:\n",
    "            self.b_ = custom_b\n",
    "        else:\n",
    "            self.b_ = np.zeros((self.__node_num, 1))\n",
    "\n",
    "    def forward_propagation(self, last_layer):\n",
    "        self.__layer_input = last_layer\n",
    "        if self.activation:\n",
    "            return np.dot(self.W_.T, last_layer) + self.b_\n",
    "        else:\n",
    "            return np.dot(self.W_.T, last_layer) + self.b_\n",
    "        \n",
    "    \n",
    "    def back_propagation(self, gradient, learning_rate = 0.0001):\n",
    "        if self.activation:\n",
    "            gradient = self.activation.gradient(gradient)\n",
    "        \n",
    "        W_temp = self.W_ \n",
    "        \n",
    "        gradient_W = self.__layer_input.dot(gradient.T)\n",
    "        gradient_b = gradient\n",
    "        \n",
    "        self.W_ = self.W_ - learning_rate * gradient_W\n",
    "        assert self.W_.shape == gradient_W.shape\n",
    "        self.b_ = self.b_ - learning_rate * gradient_b\n",
    "        assert self.b_.shape == gradient_b.shape\n",
    "        \n",
    "        accumulated_gradient = W_temp.dot(gradient)\n",
    "        return accumulated_gradient"
   ]
  },
  {
   "cell_type": "code",
   "execution_count": 9,
   "metadata": {},
   "outputs": [
    {
     "name": "stdout",
     "output_type": "stream",
     "text": [
      "[[26 27]\n",
      " [26 27]]\n",
      "[[-0.30795213 -0.40884523 -0.31074255]\n",
      " [ 0.13715907 -0.46785593  0.16232522]]\n"
     ]
    },
    {
     "data": {
      "text/plain": [
       "array([[ -4.44061955,  -4.61141261],\n",
       "       [-22.79423026, -23.67093142],\n",
       "       [ -3.85885041,  -4.00726774]])"
      ]
     },
     "execution_count": 9,
     "metadata": {},
     "output_type": "execute_result"
    }
   ],
   "source": [
    "# test forward propagation\n",
    "\n",
    "W = np.array([[1, 2, 3], [1, 2, 3]]).T\n",
    "b = np.array([0, 1])\n",
    "data = np.array([[3, 4, 5],[3, 4, 5]]).T\n",
    "\n",
    "layer = Layer(3, 2, None, W, b)\n",
    "layer1_output = layer.forward_propagation(data)\n",
    "\n",
    "print(layer1_output)\n",
    "\n",
    "layer2 = Layer(2, 3)\n",
    "print(layer2.W_)\n",
    "layer2.forward_propagation(layer1_output)"
   ]
  },
  {
   "cell_type": "code",
   "execution_count": 10,
   "metadata": {},
   "outputs": [],
   "source": [
    "def Softmax(x):\n",
    "    e_x = np.exp(x - np.max(x))  # 減max會比較穩定,避免overflow\n",
    "    return e_x / e_x.sum(axis=0)  # -xmax會消掉"
   ]
  },
  {
   "cell_type": "code",
   "execution_count": 11,
   "metadata": {},
   "outputs": [],
   "source": [
    "class Sigmoid():\n",
    "    def __call__(self,x):\n",
    "        # To prevent from overflow\n",
    "        x = np.clip(x, 1e-15, 1 - 1e-15)\n",
    "        return 1.0 / (1.0 + np.exp(-x))\n",
    "    def gradient(self, x):\n",
    "        return self(x) * (1.0 - self(x))"
   ]
  },
  {
   "cell_type": "code",
   "execution_count": 12,
   "metadata": {},
   "outputs": [],
   "source": [
    "class ReLU():\n",
    "    def __call__(self, x):\n",
    "        return np.maximum(x, 0.0)\n",
    "    \n",
    "    def gradient(self, x):\n",
    "        x[x <= 0] = 0.0\n",
    "        x[x > 0] = 1.0\n",
    "        return x\n"
   ]
  },
  {
   "cell_type": "code",
   "execution_count": 13,
   "metadata": {},
   "outputs": [],
   "source": [
    "class CrossEntropy():\n",
    "    def __call__(self, y_hat, y):\n",
    "        # Avoid division by zero\n",
    "        y_hat = np.clip(y_hat, 1e-15, 1 - 1e-15)\n",
    "        # return\n",
    "        loss_sum = 0\n",
    "        for n in range(y.shape[0]):\n",
    "            for k in range(y.shape[1]):\n",
    "                if y[n, k] == 1:\n",
    "                    loss_sum += -np.log(y_hat[n, k])\n",
    "        loss = np.sum(loss_sum) / y.shape[0]\n",
    "        return loss\n",
    "\n",
    "    def gradient(self, y_hat, y):\n",
    "        return y_hat - y"
   ]
  },
  {
   "cell_type": "code",
   "execution_count": 14,
   "metadata": {},
   "outputs": [],
   "source": [
    "class CrossEntropy2():\n",
    "    def __call__(self, y_hat, y):\n",
    "        # Avoid division by zero\n",
    "        y_hat = np.clip(y_hat, 1e-15, 1 - 1e-15)\n",
    "        # softmax\n",
    "        m = y.shape[0]\n",
    "        p = Softmax(y_hat)\n",
    "        y = np.argmax(y, axis=1)\n",
    "        \n",
    "        log_likelihood = -np.log(p[range(m), y])\n",
    "        loss = np.sum(log_likelihood) / m\n",
    "        return loss\n",
    "    \n",
    "    def gradient(self, y_hat, y):\n",
    "        return y_hat - y"
   ]
  },
  {
   "cell_type": "code",
   "execution_count": null,
   "metadata": {},
   "outputs": [],
   "source": []
  },
  {
   "cell_type": "code",
   "execution_count": 15,
   "metadata": {},
   "outputs": [
    {
     "data": {
      "text/plain": [
       "9.992007221626415e-16"
      ]
     },
     "execution_count": 15,
     "metadata": {},
     "output_type": "execute_result"
    }
   ],
   "source": [
    " # test \n",
    "y = np.array([[1, 0 , 0], [1, 0, 0], [0 , 1, 0]])\n",
    "y_hat = np.array([[3, 2, 2], [2, 5 ,6], [4 ,2 ,6]])\n",
    "\n",
    "CrossEntropy()(y_hat, y)\n"
   ]
  },
  {
   "cell_type": "code",
   "execution_count": 16,
   "metadata": {},
   "outputs": [
    {
     "data": {
      "text/plain": [
       "array([0, 0, 1])"
      ]
     },
     "execution_count": 16,
     "metadata": {},
     "output_type": "execute_result"
    }
   ],
   "source": [
    "np.argmax(y, axis=1)"
   ]
  },
  {
   "cell_type": "code",
   "execution_count": 39,
   "metadata": {},
   "outputs": [],
   "source": [
    "HiddenLayer = Layer(last_layer_num=784, node_num=2, activation_function=ReLU())\n",
    "OutputLayer = Layer(last_layer_num=2, node_num=10)\n",
    "loss_func = CrossEntropy()"
   ]
  },
  {
   "cell_type": "code",
   "execution_count": 40,
   "metadata": {},
   "outputs": [],
   "source": [
    "def train_epoch(X_train, y_train, epoch=10, learning_rate=1e-4):\n",
    "    for i in range(epoch):\n",
    "        output1 = HiddenLayer.forward_propagation(X_train)\n",
    "        theta = OutputLayer.forward_propagation(output1)\n",
    "        y_hat = Softmax(theta)\n",
    "\n",
    "        loss = loss_func(y_hat, y_train)\n",
    "\n",
    "        print(loss)\n",
    "        #print(y_hat)\n",
    "        \n",
    "        gradient = loss_func.gradient(y_hat, y_train)\n",
    "\n",
    "        gradient = OutputLayer.back_propagation(gradient, learning_rate=learning_rate)\n",
    "        HiddenLayer.back_propagation(gradient, learning_rate=learning_rate)\n",
    "    "
   ]
  },
  {
   "cell_type": "code",
   "execution_count": 41,
   "metadata": {},
   "outputs": [
    {
     "name": "stdout",
     "output_type": "stream",
     "text": [
      "23.025850929940425\n",
      "23.024840093303624\n",
      "23.023829299302434\n",
      "23.022818547873076\n",
      "23.021807838951787\n",
      "23.02079717247485\n",
      "23.019786548378498\n",
      "23.018775966599076\n",
      "23.017765427072924\n",
      "23.016754929736397\n"
     ]
    }
   ],
   "source": [
    "train_epoch(X_train, y_train)"
   ]
  },
  {
   "cell_type": "code",
   "execution_count": null,
   "metadata": {},
   "outputs": [],
   "source": []
  },
  {
   "cell_type": "code",
   "execution_count": null,
   "metadata": {},
   "outputs": [],
   "source": []
  },
  {
   "cell_type": "code",
   "execution_count": null,
   "metadata": {},
   "outputs": [],
   "source": []
  },
  {
   "cell_type": "code",
   "execution_count": null,
   "metadata": {},
   "outputs": [],
   "source": []
  },
  {
   "cell_type": "code",
   "execution_count": 20,
   "metadata": {},
   "outputs": [],
   "source": [
    "y = np.array([[0, 1, 0, 0], [0, 0, 0, 1], [0, 0, 1, 0]])"
   ]
  },
  {
   "cell_type": "code",
   "execution_count": 21,
   "metadata": {},
   "outputs": [
    {
     "data": {
      "text/plain": [
       "3"
      ]
     },
     "execution_count": 21,
     "metadata": {},
     "output_type": "execute_result"
    }
   ],
   "source": [
    "y.shape[0]\n",
    "y.size\n",
    "len(y)"
   ]
  },
  {
   "cell_type": "code",
   "execution_count": 22,
   "metadata": {},
   "outputs": [
    {
     "data": {
      "text/plain": [
       "(3, 4)"
      ]
     },
     "execution_count": 22,
     "metadata": {},
     "output_type": "execute_result"
    }
   ],
   "source": [
    "y.shape"
   ]
  },
  {
   "cell_type": "code",
   "execution_count": 23,
   "metadata": {},
   "outputs": [
    {
     "ename": "NameError",
     "evalue": "name 'sigmoid' is not defined",
     "output_type": "error",
     "traceback": [
      "\u001b[0;31m---------------------------------------------------------------------------\u001b[0m",
      "\u001b[0;31mNameError\u001b[0m                                 Traceback (most recent call last)",
      "\u001b[0;32m<ipython-input-23-61e706f7dc22>\u001b[0m in \u001b[0;36m<module>\u001b[0;34m\u001b[0m\n\u001b[0;32m----> 1\u001b[0;31m \u001b[0msigmoid\u001b[0m\u001b[0;34m(\u001b[0m\u001b[0;36m3\u001b[0m\u001b[0;34m)\u001b[0m\u001b[0;34m\u001b[0m\u001b[0;34m\u001b[0m\u001b[0m\n\u001b[0m",
      "\u001b[0;31mNameError\u001b[0m: name 'sigmoid' is not defined"
     ]
    }
   ],
   "source": [
    "sigmoid(3)"
   ]
  },
  {
   "cell_type": "code",
   "execution_count": null,
   "metadata": {},
   "outputs": [],
   "source": []
  }
 ],
 "metadata": {
  "kernelspec": {
   "display_name": "Python 3",
   "language": "python",
   "name": "python3"
  },
  "language_info": {
   "codemirror_mode": {
    "name": "ipython",
    "version": 3
   },
   "file_extension": ".py",
   "mimetype": "text/x-python",
   "name": "python",
   "nbconvert_exporter": "python",
   "pygments_lexer": "ipython3",
   "version": "3.6.9"
  }
 },
 "nbformat": 4,
 "nbformat_minor": 4
}
