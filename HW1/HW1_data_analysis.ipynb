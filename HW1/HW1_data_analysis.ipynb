{
 "cells": [
  {
   "cell_type": "code",
   "execution_count": 24,
   "metadata": {},
   "outputs": [],
   "source": [
    "import numpy as np\n",
    "import matplotlib.pyplot as plt\n",
    "from collections import Counter\n",
    "\n",
    "%matplotlib inline"
   ]
  },
  {
   "cell_type": "code",
   "execution_count": 2,
   "metadata": {},
   "outputs": [],
   "source": [
    "test = np.load('test.npz')\n",
    "train = np.load('train.npz')"
   ]
  },
  {
   "cell_type": "code",
   "execution_count": 3,
   "metadata": {},
   "outputs": [],
   "source": [
    "y_test = test['label']\n",
    "X_test = test['image']\n",
    "y_train = train['label']\n",
    "X_train = train['image']"
   ]
  },
  {
   "cell_type": "code",
   "execution_count": 4,
   "metadata": {},
   "outputs": [
    {
     "data": {
      "text/plain": [
       "(12000, 28, 28)"
      ]
     },
     "execution_count": 4,
     "metadata": {},
     "output_type": "execute_result"
    }
   ],
   "source": [
    "X_train.shape"
   ]
  },
  {
   "cell_type": "code",
   "execution_count": 6,
   "metadata": {},
   "outputs": [
    {
     "data": {
      "text/plain": [
       "(5768, 28, 28)"
      ]
     },
     "execution_count": 6,
     "metadata": {},
     "output_type": "execute_result"
    }
   ],
   "source": [
    "X_test.shape"
   ]
  },
  {
   "cell_type": "code",
   "execution_count": 7,
   "metadata": {},
   "outputs": [
    {
     "data": {
      "text/plain": [
       "784"
      ]
     },
     "execution_count": 7,
     "metadata": {},
     "output_type": "execute_result"
    }
   ],
   "source": [
    "28 * 28"
   ]
  },
  {
   "cell_type": "code",
   "execution_count": 8,
   "metadata": {},
   "outputs": [
    {
     "data": {
      "text/plain": [
       "array([  0.,  11.,  16.,  17.,  46.,  47.,  52.,  53.,  54.,  59.,  60.,\n",
       "        89.,  90.,  95.,  96.,  97., 102., 103., 132., 133., 138., 139.,\n",
       "       140., 145., 146., 175., 176., 181., 182., 183., 188., 189., 218.,\n",
       "       219., 224., 225.])"
      ]
     },
     "execution_count": 8,
     "metadata": {},
     "output_type": "execute_result"
    }
   ],
   "source": [
    "np.unique(X_train)"
   ]
  },
  {
   "cell_type": "code",
   "execution_count": 9,
   "metadata": {},
   "outputs": [
    {
     "data": {
      "text/plain": [
       "array([  0.,  11.,  16.,  17.,  46.,  47.,  52.,  53.,  54.,  59.,  60.,\n",
       "        89.,  90.,  95.,  96.,  97., 102., 103., 132., 133., 138., 139.,\n",
       "       140., 145., 146., 152., 175., 176., 181., 182., 183., 188., 189.,\n",
       "       218., 219., 224., 225.])"
      ]
     },
     "execution_count": 9,
     "metadata": {},
     "output_type": "execute_result"
    }
   ],
   "source": [
    "np.unique(X_test)"
   ]
  },
  {
   "cell_type": "code",
   "execution_count": 13,
   "metadata": {},
   "outputs": [],
   "source": [
    "def print_single_pic(data, i):\n",
    "    pic = data[i, :, :]\n",
    "    for i in range(pic.shape[0]):\n",
    "        for j in range(pic.shape[1]):\n",
    "            if pic[i, j] >= 133:\n",
    "                print('◼︎', end='')\n",
    "            else:\n",
    "                print('◻︎', end='')\n",
    "        print()"
   ]
  },
  {
   "cell_type": "code",
   "execution_count": 17,
   "metadata": {},
   "outputs": [
    {
     "name": "stdout",
     "output_type": "stream",
     "text": [
      "◻︎◻︎◻︎◻︎◻︎◻︎◻︎◻︎◻︎◻︎◻︎◻︎◻︎◻︎◻︎◻︎◻︎◻︎◻︎◻︎◻︎◻︎◻︎◻︎◻︎◻︎◻︎◻︎\n",
      "◻︎◻︎◻︎◻︎◻︎◻︎◻︎◻︎◻︎◻︎◻︎◻︎◻︎◻︎◻︎◻︎◻︎◻︎◻︎◻︎◻︎◻︎◻︎◻︎◻︎◻︎◻︎◻︎\n",
      "◻︎◻︎◻︎◻︎◻︎◻︎◻︎◻︎◻︎◻︎◻︎◻︎◻︎◻︎◻︎◻︎◻︎◻︎◻︎◻︎◻︎◻︎◻︎◻︎◻︎◻︎◻︎◻︎\n",
      "◻︎◻︎◻︎◻︎◻︎◻︎◻︎◻︎◻︎◻︎◻︎◻︎◻︎◻︎◻︎◻︎◼︎◼︎◻︎◻︎◻︎◻︎◻︎◻︎◻︎◻︎◻︎◻︎\n",
      "◻︎◻︎◻︎◻︎◻︎◻︎◻︎◻︎◻︎◻︎◻︎◻︎◻︎◻︎◼︎◼︎◼︎◼︎◻︎◻︎◻︎◻︎◻︎◻︎◻︎◻︎◻︎◻︎\n",
      "◻︎◻︎◻︎◻︎◻︎◻︎◻︎◻︎◻︎◻︎◻︎◻︎◻︎◻︎◼︎◼︎◼︎◼︎◻︎◻︎◻︎◻︎◻︎◻︎◻︎◻︎◻︎◻︎\n",
      "◻︎◻︎◻︎◻︎◻︎◻︎◻︎◻︎◼︎◼︎◻︎◻︎◻︎◻︎◼︎◼︎◼︎◼︎◻︎◻︎◻︎◻︎◻︎◻︎◻︎◻︎◻︎◻︎\n",
      "◻︎◻︎◻︎◻︎◻︎◻︎◼︎◼︎◼︎◼︎◻︎◻︎◻︎◻︎◻︎◼︎◼︎◼︎◼︎◻︎◻︎◻︎◻︎◻︎◻︎◻︎◻︎◻︎\n",
      "◻︎◻︎◻︎◻︎◻︎◼︎◼︎◼︎◼︎◻︎◻︎◻︎◻︎◻︎◻︎◼︎◼︎◼︎◼︎◻︎◻︎◻︎◻︎◻︎◻︎◻︎◻︎◻︎\n",
      "◻︎◻︎◻︎◻︎◻︎◼︎◼︎◼︎◼︎◻︎◻︎◻︎◻︎◻︎◻︎◼︎◼︎◼︎◼︎◻︎◻︎◻︎◻︎◻︎◻︎◻︎◻︎◻︎\n",
      "◻︎◻︎◻︎◻︎◻︎◼︎◼︎◼︎◼︎◻︎◻︎◻︎◻︎◻︎◻︎◼︎◼︎◼︎◼︎◼︎◻︎◻︎◻︎◻︎◻︎◻︎◻︎◻︎\n",
      "◻︎◻︎◻︎◻︎◻︎◼︎◼︎◼︎◼︎◼︎◻︎◻︎◻︎◻︎◻︎◻︎◼︎◼︎◼︎◼︎◻︎◻︎◻︎◻︎◻︎◻︎◻︎◻︎\n",
      "◻︎◻︎◻︎◻︎◻︎◻︎◼︎◼︎◼︎◼︎◻︎◻︎◻︎◻︎◻︎◻︎◼︎◼︎◼︎◼︎◻︎◻︎◻︎◻︎◻︎◻︎◻︎◻︎\n",
      "◻︎◻︎◻︎◻︎◻︎◻︎◻︎◼︎◼︎◼︎◼︎◻︎◻︎◻︎◻︎◼︎◼︎◼︎◼︎◼︎◻︎◻︎◻︎◻︎◻︎◻︎◻︎◻︎\n",
      "◻︎◻︎◻︎◻︎◻︎◻︎◻︎◼︎◼︎◼︎◼︎◼︎◻︎◼︎◼︎◼︎◼︎◼︎◼︎◼︎◻︎◻︎◻︎◻︎◻︎◻︎◻︎◻︎\n",
      "◻︎◻︎◻︎◻︎◻︎◻︎◻︎◻︎◻︎◼︎◼︎◼︎◼︎◼︎◼︎◼︎◼︎◼︎◼︎◼︎◼︎◻︎◻︎◻︎◻︎◻︎◻︎◻︎\n",
      "◻︎◻︎◻︎◻︎◻︎◻︎◻︎◻︎◻︎◻︎◼︎◼︎◼︎◼︎◼︎◻︎◻︎◼︎◼︎◼︎◼︎◻︎◻︎◻︎◻︎◻︎◻︎◻︎\n",
      "◻︎◻︎◻︎◻︎◻︎◻︎◻︎◻︎◻︎◻︎◻︎◻︎◻︎◻︎◻︎◻︎◻︎◻︎◼︎◼︎◼︎◻︎◻︎◻︎◻︎◻︎◻︎◻︎\n",
      "◻︎◻︎◻︎◻︎◻︎◻︎◻︎◻︎◻︎◻︎◻︎◻︎◻︎◻︎◻︎◻︎◻︎◻︎◼︎◼︎◼︎◻︎◻︎◻︎◻︎◻︎◻︎◻︎\n",
      "◻︎◻︎◻︎◻︎◻︎◻︎◻︎◻︎◻︎◻︎◻︎◻︎◻︎◻︎◻︎◻︎◻︎◻︎◼︎◼︎◼︎◼︎◻︎◻︎◻︎◻︎◻︎◻︎\n",
      "◻︎◻︎◻︎◻︎◻︎◻︎◻︎◻︎◻︎◻︎◻︎◻︎◻︎◻︎◻︎◻︎◻︎◻︎◻︎◼︎◼︎◼︎◻︎◻︎◻︎◻︎◻︎◻︎\n",
      "◻︎◻︎◻︎◻︎◻︎◻︎◻︎◻︎◻︎◻︎◻︎◻︎◻︎◻︎◻︎◻︎◻︎◻︎◻︎◼︎◼︎◼︎◻︎◻︎◻︎◻︎◻︎◻︎\n",
      "◻︎◻︎◻︎◻︎◻︎◻︎◻︎◻︎◻︎◻︎◻︎◻︎◻︎◻︎◻︎◻︎◻︎◻︎◻︎◼︎◼︎◼︎◼︎◻︎◻︎◻︎◻︎◻︎\n",
      "◻︎◻︎◻︎◻︎◻︎◻︎◻︎◻︎◻︎◻︎◻︎◻︎◻︎◻︎◻︎◻︎◻︎◻︎◻︎◼︎◼︎◼︎◼︎◻︎◻︎◻︎◻︎◻︎\n",
      "◻︎◻︎◻︎◻︎◻︎◻︎◻︎◻︎◻︎◻︎◻︎◻︎◻︎◻︎◻︎◻︎◻︎◻︎◻︎◼︎◻︎◻︎◻︎◻︎◻︎◻︎◻︎◻︎\n",
      "◻︎◻︎◻︎◻︎◻︎◻︎◻︎◻︎◻︎◻︎◻︎◻︎◻︎◻︎◻︎◻︎◻︎◻︎◻︎◻︎◻︎◻︎◻︎◻︎◻︎◻︎◻︎◻︎\n",
      "◻︎◻︎◻︎◻︎◻︎◻︎◻︎◻︎◻︎◻︎◻︎◻︎◻︎◻︎◻︎◻︎◻︎◻︎◻︎◻︎◻︎◻︎◻︎◻︎◻︎◻︎◻︎◻︎\n",
      "◻︎◻︎◻︎◻︎◻︎◻︎◻︎◻︎◻︎◻︎◻︎◻︎◻︎◻︎◻︎◻︎◻︎◻︎◻︎◻︎◻︎◻︎◻︎◻︎◻︎◻︎◻︎◻︎\n"
     ]
    }
   ],
   "source": [
    "print_single_pic(X_train, 3)"
   ]
  },
  {
   "cell_type": "code",
   "execution_count": 23,
   "metadata": {},
   "outputs": [
    {
     "data": {
      "text/plain": [
       "Counter({1.0: 1473,\n",
       "         2.0: 1288,\n",
       "         5.0: 943,\n",
       "         6.0: 1116,\n",
       "         0.0: 1332,\n",
       "         4.0: 1316,\n",
       "         3.0: 1216,\n",
       "         7.0: 853,\n",
       "         9.0: 1393,\n",
       "         8.0: 1070})"
      ]
     },
     "execution_count": 23,
     "metadata": {},
     "output_type": "execute_result"
    }
   ],
   "source": [
    "cnt = Counter(y_train)\n",
    "cnt"
   ]
  },
  {
   "cell_type": "code",
   "execution_count": 25,
   "metadata": {},
   "outputs": [
    {
     "data": {
      "text/plain": [
       "<BarContainer object of 10 artists>"
      ]
     },
     "execution_count": 25,
     "metadata": {},
     "output_type": "execute_result"
    },
    {
     "data": {
      "image/png": "[encoded data removed]",
      "text/plain": [
       "<Figure size 432x288 with 1 Axes>"
      ]
     },
     "metadata": {
      "needs_background": "light"
     },
     "output_type": "display_data"
    }
   ],
   "source": [
    "num = list(cnt.keys())\n",
    "count = list(cnt.values())\n",
    "\n",
    "plt.bar(num, count)"
   ]
  },
  {
   "cell_type": "code",
   "execution_count": null,
   "metadata": {},
   "outputs": [],
   "source": []
  }
 ],
 "metadata": {
  "kernelspec": {
   "display_name": "Python 3",
   "language": "python",
   "name": "python3"
  },
  "language_info": {
   "codemirror_mode": {
    "name": "ipython",
    "version": 3
   },
   "file_extension": ".py",
   "mimetype": "text/x-python",
   "name": "python",
   "nbconvert_exporter": "python",
   "pygments_lexer": "ipython3",
   "version": "3.7.3"
  }
 },
 "nbformat": 4,
 "nbformat_minor": 4
}
