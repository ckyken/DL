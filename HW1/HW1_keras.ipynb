{
 "cells": [
  {
   "cell_type": "code",
   "execution_count": 1,
   "metadata": {},
   "outputs": [
    {
     "name": "stderr",
     "output_type": "stream",
     "text": [
      "Using TensorFlow backend.\n"
     ]
    }
   ],
   "source": [
    "import numpy as np\n",
    "import keras as K"
   ]
  },
  {
   "cell_type": "code",
   "execution_count": 2,
   "metadata": {},
   "outputs": [],
   "source": [
    "test = np.load('test.npz')\n",
    "train = np.load('train.npz')\n",
    "\n",
    "y_test = test['label']\n",
    "X_test = test['image']\n",
    "y_train = train['label']\n",
    "X_train = train['image']\n",
    "\n",
    "y_train = np.eye(10)[[int(y_) for y_ in y_train.tolist()]]\n",
    "y_test = np.eye(10)[[int(y_) for y_ in y_test.tolist()]]\n",
    "X_train = X_train.reshape(-1, X_train.shape[1] * X_train.shape[2])\n",
    "X_test = X_test.reshape(-1, X_test.shape[1] * X_test.shape[2])"
   ]
  },
  {
   "cell_type": "code",
   "execution_count": 3,
   "metadata": {},
   "outputs": [
    {
     "name": "stdout",
     "output_type": "stream",
     "text": [
      "Creating a 784-(400-400)-10 deep NN \n",
      "\n",
      "WARNING:tensorflow:From /Users/ken/Library/Python/3.7/lib/python/site-packages/tensorflow_core/python/ops/resource_variable_ops.py:1630: calling BaseResourceVariable.__init__ (from tensorflow.python.ops.resource_variable_ops) with constraint is deprecated and will be removed in a future version.\n",
      "Instructions for updating:\n",
      "If using Keras pass *_constraint arguments to layers.\n",
      "Starting training \n",
      "WARNING:tensorflow:From /Users/ken/Library/Python/3.7/lib/python/site-packages/keras/backend/tensorflow_backend.py:422: The name tf.global_variables is deprecated. Please use tf.compat.v1.global_variables instead.\n",
      "\n",
      "Training finished \n",
      "\n",
      "Training history: \n",
      "epoch:     0 loss = 0.3628 acc = 87.90%\n",
      "epoch:     1 loss = 0.1386 acc = 95.44%\n",
      "epoch:     2 loss = 0.0834 acc = 97.12%\n",
      "epoch:     3 loss = 0.0532 acc = 98.29%\n",
      "epoch:     4 loss = 0.0403 acc = 98.62%\n",
      "epoch:     5 loss = 0.0288 acc = 99.03%\n",
      "epoch:     6 loss = 0.0255 acc = 99.27%\n",
      "epoch:     7 loss = 0.0193 acc = 99.45%\n",
      "epoch:     8 loss = 0.0183 acc = 99.53%\n",
      "epoch:     9 loss = 0.0127 acc = 99.64%\n",
      "\n",
      "Evaluation on test data: \n",
      "loss = 43.7237 accuracy = 96.95%\n",
      "\n",
      "End MNIST DNN demo \n",
      "\n"
     ]
    }
   ],
   "source": [
    "X_train /= 255  # normalize\n",
    "\n",
    "print(\"Creating a 784-(400-400)-10 deep NN \\n\")\n",
    "np.random.seed(1)\n",
    "model = K.models.Sequential()\n",
    "model.add(K.layers.Dense(units=400, input_dim=784,\n",
    "activation='relu'))\n",
    "model.add(K.layers.Dense(units=400,\n",
    "activation='relu'))\n",
    "model.add(K.layers.Dense(units=10,\n",
    "activation='softmax'))\n",
    "model.compile(loss='categorical_crossentropy',\n",
    "optimizer='rmsprop', metrics=['accuracy']) #rmsprop\n",
    "\n",
    "print(\"Starting training \")\n",
    "num_epochs = 10\n",
    "h = model.fit(X_train, y_train, batch_size=50,\n",
    "epochs=num_epochs, verbose=0) \n",
    "print(\"Training finished \\n\")\n",
    "\n",
    "print(\"Training history: \")\n",
    "for i in range(num_epochs):\n",
    "    if i % 1 == 0:\n",
    "        los = h.history['loss'][i]\n",
    "        acc = h.history['accuracy'][i] * 100\n",
    "        print(\"epoch: %5d loss = %0.4f acc = %0.2f%%\" \\\n",
    "        % (i, los, acc))\n",
    "\n",
    "\n",
    "eval = model.evaluate(X_test, y_test, verbose=0)\n",
    "print(\"\\nEvaluation on test data: \\nloss = %0.4f \\\n",
    "accuracy = %0.2f%%\" % (eval[0], eval[1]*100) )\n",
    "\n",
    "print(\"\\nEnd MNIST DNN demo \\n\")"
   ]
  },
  {
   "cell_type": "code",
   "execution_count": null,
   "metadata": {},
   "outputs": [],
   "source": []
  },
  {
   "cell_type": "code",
   "execution_count": null,
   "metadata": {},
   "outputs": [],
   "source": []
  }
 ],
 "metadata": {
  "kernelspec": {
   "display_name": "Python 3",
   "language": "python",
   "name": "python3"
  },
  "language_info": {
   "codemirror_mode": {
    "name": "ipython",
    "version": 3
   },
   "file_extension": ".py",
   "mimetype": "text/x-python",
   "name": "python",
   "nbconvert_exporter": "python",
   "pygments_lexer": "ipython3",
   "version": "3.7.3"
  }
 },
 "nbformat": 4,
 "nbformat_minor": 4
}
