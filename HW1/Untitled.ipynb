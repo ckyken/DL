{
 "cells": [
  {
   "cell_type": "code",
   "execution_count": null,
   "metadata": {},
   "outputs": [],
   "source": [
    "import numpy as np\n",
    "np.random.seed(87)"
   ]
  },
  {
   "cell_type": "code",
   "execution_count": null,
   "metadata": {},
   "outputs": [],
   "source": [
    "test = np.load('test.npz')\n",
    "train = np.load('train.npz')\n",
    "\n",
    "y_test = test['label']\n",
    "X_test = test['image']\n",
    "y_train = train['label']\n",
    "X_train = train['image']\n",
    "\n",
    "y_train = np.eye(10)[[int(y_) for y_ in y_train.tolist()]]\n",
    "y_test = np.eye(10)[[int(y_) for y_ in y_test.tolist()]]\n",
    "X_train = X_train.reshape(-1, X_train.shape[1] * X_train.shape[2])\n",
    "X_test = X_test.reshape(-1, X_test.shape[1] * X_test.shape[2])"
   ]
  },
  {
   "cell_type": "code",
   "execution_count": null,
   "metadata": {},
   "outputs": [],
   "source": [
    "class NN():\n",
    "    "
   ]
  }
 ],
 "metadata": {
  "kernelspec": {
   "display_name": "Python 3",
   "language": "python",
   "name": "python3"
  },
  "language_info": {
   "codemirror_mode": {
    "name": "ipython",
    "version": 3
   },
   "file_extension": ".py",
   "mimetype": "text/x-python",
   "name": "python",
   "nbconvert_exporter": "python",
   "pygments_lexer": "ipython3",
   "version": "3.7.3"
  }
 },
 "nbformat": 4,
 "nbformat_minor": 4
}
