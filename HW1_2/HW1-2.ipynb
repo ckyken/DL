{
 "cells": [
  {
   "cell_type": "code",
   "execution_count": 1,
   "metadata": {},
   "outputs": [],
   "source": [
    "import pandas as pd\n",
    "from skimage.io import imread\n",
    "from skimage import io, data\n",
    "import matplotlib.pyplot as plt\n",
    "from tqdm import tqdm\n",
    "import numpy as np\n",
    "from skimage.transform import resize\n",
    "import torch\n",
    "import torch.nn as nn\n",
    "from torch.autograd import Variable\n",
    "from torch.nn import Linear, ReLU, CrossEntropyLoss, Sequential, Conv2d, MaxPool2d, Module, Softmax, BatchNorm2d, Dropout\n",
    "from torch.optim import Adam, SGD"
   ]
  },
  {
   "cell_type": "code",
   "execution_count": 2,
   "metadata": {},
   "outputs": [],
   "source": [
    "trainData = pd.read_csv('problem2-CNN/train.csv')\n",
    "testData = pd.read_csv('problem2-CNN/test.csv')"
   ]
  },
  {
   "cell_type": "code",
   "execution_count": 3,
   "metadata": {},
   "outputs": [
    {
     "data": {
      "text/html": [
       "<div>\n",
       "<style scoped>\n",
       "    .dataframe tbody tr th:only-of-type {\n",
       "        vertical-align: middle;\n",
       "    }\n",
       "\n",
       "    .dataframe tbody tr th {\n",
       "        vertical-align: top;\n",
       "    }\n",
       "\n",
       "    .dataframe thead th {\n",
       "        text-align: right;\n",
       "    }\n",
       "</style>\n",
       "<table border=\"1\" class=\"dataframe\">\n",
       "  <thead>\n",
       "    <tr style=\"text-align: right;\">\n",
       "      <th></th>\n",
       "      <th>filename</th>\n",
       "      <th>width</th>\n",
       "      <th>height</th>\n",
       "      <th>label</th>\n",
       "      <th>xmin</th>\n",
       "      <th>ymin</th>\n",
       "      <th>xmax</th>\n",
       "      <th>ymax</th>\n",
       "    </tr>\n",
       "  </thead>\n",
       "  <tbody>\n",
       "    <tr>\n",
       "      <th>0</th>\n",
       "      <td>11893820-3x2-xlarge.jpg</td>\n",
       "      <td>862</td>\n",
       "      <td>575</td>\n",
       "      <td>bad</td>\n",
       "      <td>12</td>\n",
       "      <td>238</td>\n",
       "      <td>92</td>\n",
       "      <td>318</td>\n",
       "    </tr>\n",
       "    <tr>\n",
       "      <th>1</th>\n",
       "      <td>11893820-3x2-xlarge.jpg</td>\n",
       "      <td>862</td>\n",
       "      <td>575</td>\n",
       "      <td>bad</td>\n",
       "      <td>46</td>\n",
       "      <td>42</td>\n",
       "      <td>104</td>\n",
       "      <td>97</td>\n",
       "    </tr>\n",
       "    <tr>\n",
       "      <th>2</th>\n",
       "      <td>11893820-3x2-xlarge.jpg</td>\n",
       "      <td>862</td>\n",
       "      <td>575</td>\n",
       "      <td>good</td>\n",
       "      <td>103</td>\n",
       "      <td>24</td>\n",
       "      <td>150</td>\n",
       "      <td>79</td>\n",
       "    </tr>\n",
       "    <tr>\n",
       "      <th>3</th>\n",
       "      <td>11893820-3x2-xlarge.jpg</td>\n",
       "      <td>862</td>\n",
       "      <td>575</td>\n",
       "      <td>good</td>\n",
       "      <td>243</td>\n",
       "      <td>2</td>\n",
       "      <td>291</td>\n",
       "      <td>51</td>\n",
       "    </tr>\n",
       "    <tr>\n",
       "      <th>4</th>\n",
       "      <td>11893820-3x2-xlarge.jpg</td>\n",
       "      <td>862</td>\n",
       "      <td>575</td>\n",
       "      <td>bad</td>\n",
       "      <td>166</td>\n",
       "      <td>36</td>\n",
       "      <td>228</td>\n",
       "      <td>99</td>\n",
       "    </tr>\n",
       "    <tr>\n",
       "      <th>...</th>\n",
       "      <td>...</td>\n",
       "      <td>...</td>\n",
       "      <td>...</td>\n",
       "      <td>...</td>\n",
       "      <td>...</td>\n",
       "      <td>...</td>\n",
       "      <td>...</td>\n",
       "      <td>...</td>\n",
       "    </tr>\n",
       "    <tr>\n",
       "      <th>3523</th>\n",
       "      <td>kljlhk.jpg</td>\n",
       "      <td>1548</td>\n",
       "      <td>1032</td>\n",
       "      <td>good</td>\n",
       "      <td>1481</td>\n",
       "      <td>239</td>\n",
       "      <td>1546</td>\n",
       "      <td>353</td>\n",
       "    </tr>\n",
       "    <tr>\n",
       "      <th>3524</th>\n",
       "      <td>kljlhk.jpg</td>\n",
       "      <td>1548</td>\n",
       "      <td>1032</td>\n",
       "      <td>good</td>\n",
       "      <td>328</td>\n",
       "      <td>273</td>\n",
       "      <td>361</td>\n",
       "      <td>312</td>\n",
       "    </tr>\n",
       "    <tr>\n",
       "      <th>3525</th>\n",
       "      <td>kljlhk.jpg</td>\n",
       "      <td>1548</td>\n",
       "      <td>1032</td>\n",
       "      <td>good</td>\n",
       "      <td>283</td>\n",
       "      <td>245</td>\n",
       "      <td>318</td>\n",
       "      <td>289</td>\n",
       "    </tr>\n",
       "    <tr>\n",
       "      <th>3526</th>\n",
       "      <td>kljlhk.jpg</td>\n",
       "      <td>1548</td>\n",
       "      <td>1032</td>\n",
       "      <td>good</td>\n",
       "      <td>226</td>\n",
       "      <td>251</td>\n",
       "      <td>257</td>\n",
       "      <td>289</td>\n",
       "    </tr>\n",
       "    <tr>\n",
       "      <th>3527</th>\n",
       "      <td>kljlhk.jpg</td>\n",
       "      <td>1548</td>\n",
       "      <td>1032</td>\n",
       "      <td>good</td>\n",
       "      <td>169</td>\n",
       "      <td>250</td>\n",
       "      <td>205</td>\n",
       "      <td>281</td>\n",
       "    </tr>\n",
       "  </tbody>\n",
       "</table>\n",
       "<p>3528 rows × 8 columns</p>\n",
       "</div>"
      ],
      "text/plain": [
       "                     filename  width  height label  xmin  ymin  xmax  ymax\n",
       "0     11893820-3x2-xlarge.jpg    862     575   bad    12   238    92   318\n",
       "1     11893820-3x2-xlarge.jpg    862     575   bad    46    42   104    97\n",
       "2     11893820-3x2-xlarge.jpg    862     575  good   103    24   150    79\n",
       "3     11893820-3x2-xlarge.jpg    862     575  good   243     2   291    51\n",
       "4     11893820-3x2-xlarge.jpg    862     575   bad   166    36   228    99\n",
       "...                       ...    ...     ...   ...   ...   ...   ...   ...\n",
       "3523               kljlhk.jpg   1548    1032  good  1481   239  1546   353\n",
       "3524               kljlhk.jpg   1548    1032  good   328   273   361   312\n",
       "3525               kljlhk.jpg   1548    1032  good   283   245   318   289\n",
       "3526               kljlhk.jpg   1548    1032  good   226   251   257   289\n",
       "3527               kljlhk.jpg   1548    1032  good   169   250   205   281\n",
       "\n",
       "[3528 rows x 8 columns]"
      ]
     },
     "execution_count": 3,
     "metadata": {},
     "output_type": "execute_result"
    }
   ],
   "source": [
    "trainData"
   ]
  },
  {
   "cell_type": "code",
   "execution_count": 4,
   "metadata": {},
   "outputs": [],
   "source": [
    "img_num = trainData['filename']\n",
    "img_num_test = testData['filename']"
   ]
  },
  {
   "cell_type": "code",
   "execution_count": 5,
   "metadata": {},
   "outputs": [],
   "source": [
    "# image_path = 'problem2-CNN/images/' + str(filename_1)\n",
    "# img = imread(image_path)\n",
    "# plt.imshow(img)"
   ]
  },
  {
   "cell_type": "code",
   "execution_count": 6,
   "metadata": {},
   "outputs": [
    {
     "name": "stderr",
     "output_type": "stream",
     "text": [
      "100%|██████████| 3528/3528 [01:45<00:00, 33.35it/s]\n"
     ]
    }
   ],
   "source": [
    "train_data = []\n",
    "\n",
    "for i in tqdm(range(len(img_num))):\n",
    "    filename = trainData['filename'][i]\n",
    "    image_path = 'problem2-CNN/images/' + str(filename)\n",
    "    img = imread(image_path)\n",
    "    if img.shape[-1] > 3:\n",
    "        # discard alpha channel\n",
    "        img = img[:, :, :3]\n",
    "    xmin = trainData['xmin'][i]\n",
    "    xmax = trainData['xmax'][i]\n",
    "    ymin = trainData['ymin'][i]\n",
    "    ymax = trainData['ymax'][i]\n",
    "    #   切割與resize\n",
    "    partial_img_temp = img[ymin:ymax, xmin:xmax, :]\n",
    "    partial_img = resize(partial_img_temp, (64, 64))\n",
    "    \n",
    "    partial_img = np.reshape(partial_img, (1, 3, 64, 64))\n",
    "    #   貌似normalize過惹 \n",
    "    train_data.append(partial_img)\n",
    "#     io.imshow(partial_img)\n",
    "#     io.show()"
   ]
  },
  {
   "cell_type": "code",
   "execution_count": 7,
   "metadata": {},
   "outputs": [
    {
     "name": "stderr",
     "output_type": "stream",
     "text": [
      "100%|██████████| 394/394 [00:10<00:00, 39.21it/s]\n"
     ]
    }
   ],
   "source": [
    "test_data = []\n",
    "\n",
    "for i in tqdm(range(len(img_num_test))):\n",
    "    filename = testData['filename'][i]\n",
    "    image_path = 'problem2-CNN/images/' + str(filename)\n",
    "    img = imread(image_path)\n",
    "    if img.shape[-1] > 3:\n",
    "        # discard alpha channel\n",
    "        img = img[:, :, :3]\n",
    "    xmin = testData['xmin'][i]\n",
    "    xmax = testData['xmax'][i]\n",
    "    ymin = testData['ymin'][i]\n",
    "    ymax = testData['ymax'][i]\n",
    "    #   切割與resize\n",
    "    partial_img_temp = img[ymin:ymax, xmin:xmax, :]\n",
    "    partial_img = resize(partial_img_temp, (64, 64))\n",
    "    partial_img = np.reshape(partial_img, (1, 3, 64, 64))\n",
    "    #   貌似normalize過惹 \n",
    "    test_data.append(partial_img)"
   ]
  },
  {
   "cell_type": "code",
   "execution_count": 8,
   "metadata": {},
   "outputs": [],
   "source": [
    "#plt.imshow(train_data[0])"
   ]
  },
  {
   "cell_type": "code",
   "execution_count": 9,
   "metadata": {},
   "outputs": [
    {
     "name": "stdout",
     "output_type": "stream",
     "text": [
      "(1, 3, 64, 64)\n"
     ]
    }
   ],
   "source": [
    "print(train_data[0].shape)"
   ]
  },
  {
   "cell_type": "code",
   "execution_count": 10,
   "metadata": {},
   "outputs": [],
   "source": [
    "#train_data_temp = resize(train_data[0], (64, 64))"
   ]
  },
  {
   "cell_type": "code",
   "execution_count": 11,
   "metadata": {},
   "outputs": [],
   "source": [
    "#plt.imshow(train_data_temp)"
   ]
  },
  {
   "cell_type": "code",
   "execution_count": 12,
   "metadata": {},
   "outputs": [],
   "source": [
    "#np.max(train_data_temp)"
   ]
  },
  {
   "cell_type": "code",
   "execution_count": 13,
   "metadata": {},
   "outputs": [],
   "source": [
    "# N is batch size; D_in is input dimension;\n",
    "# H is hidden dimension; D_out is output dimension.\n",
    "\n",
    "# N, D_in, H, D_out = 64, 1000, 100, 3\n",
    "#D_in, H, D_out = 4 * 16 * 16, 100, 3\n"
   ]
  },
  {
   "cell_type": "code",
   "execution_count": 50,
   "metadata": {},
   "outputs": [],
   "source": [
    " class Net(nn.Module):\n",
    "        def __init__(self, D_in = 4 * 16 * 16, H = 100, D_out = 3):\n",
    "            super(Net, self).__init__()\n",
    "            self.CNN = nn.Sequential(\n",
    "                    # Defining a 2D convolution layer\n",
    "                Conv2d(3, 4, kernel_size=3, stride=1, padding=1),\n",
    "      #            BatchNorm2d(4),\n",
    "                ReLU(inplace=True),\n",
    "                MaxPool2d(kernel_size=2, stride=2),\n",
    "                    # Defining another 2D convolution layer\n",
    "                Conv2d(4, 4, kernel_size=3, stride=1, padding=1),\n",
    "    #             BatchNorm2d(4),\n",
    "                ReLU(inplace=True),\n",
    "                MaxPool2d(kernel_size=2, stride=2),\n",
    "\n",
    "            )\n",
    "            self.DNN = nn.Sequential(\n",
    "                nn.Linear(D_in, H),\n",
    "                nn.ReLU(),\n",
    "                nn.Linear(H, D_out),\n",
    "            )\n",
    "            \n",
    "        def forward(self, x):\n",
    "            x = self.CNN(x)\n",
    "            x = x.view(x.shape[0], -1)\n",
    "            x = self.DNN(x)\n",
    "            return x"
   ]
  },
  {
   "cell_type": "code",
   "execution_count": 15,
   "metadata": {},
   "outputs": [],
   "source": [
    "loss_func = nn.CrossEntropyLoss()\n",
    "model = Net()\n",
    "optimizer = Adam(model.parameters(), lr=0.07)"
   ]
  },
  {
   "cell_type": "code",
   "execution_count": null,
   "metadata": {},
   "outputs": [],
   "source": []
  },
  {
   "cell_type": "code",
   "execution_count": 16,
   "metadata": {},
   "outputs": [],
   "source": [
    "#test\n",
    "\n",
    "# train_data_temp = np.reshape(train_data_temp, (1, 3, 64, 64))\n",
    "# testtest = torch.from_numpy(train_data_temp).float()\n",
    "# #print(testtest)\n",
    "# #testtest = Variable(testtest)\n",
    "# #print(testtest)\n",
    "\n",
    "# y_pred = CNN(testtest)\n",
    "# y_pred = y_pred.view(train_data_temp.shape[0], -1)\n",
    "# y_out = DNN(y_pred)\n",
    "# #loss = loss_func(y_out)\n",
    "\n"
   ]
  },
  {
   "cell_type": "code",
   "execution_count": 17,
   "metadata": {},
   "outputs": [],
   "source": [
    "Y_train_data = trainData['label']\n",
    "Y_train_data_list = []\n",
    "for i in range(len(Y_train_data)):\n",
    "    if Y_train_data[i] == \"good\":\n",
    "        Y_train_data_list.append(np.array([0]))\n",
    "    elif Y_train_data[i] == \"bad\":\n",
    "        Y_train_data_list.append(np.array([1]))\n",
    "    else:\n",
    "        Y_train_data_list.append(np.array([2]))\n",
    "Y_train = np.vstack(Y_train_data_list)\n",
    "        "
   ]
  },
  {
   "cell_type": "code",
   "execution_count": 18,
   "metadata": {},
   "outputs": [
    {
     "data": {
      "text/plain": [
       "(3528, 1)"
      ]
     },
     "execution_count": 18,
     "metadata": {},
     "output_type": "execute_result"
    }
   ],
   "source": [
    "Y_train.shape"
   ]
  },
  {
   "cell_type": "code",
   "execution_count": 27,
   "metadata": {},
   "outputs": [],
   "source": [
    "Y_train = np.reshape(Y_train, (-1))"
   ]
  },
  {
   "cell_type": "code",
   "execution_count": 28,
   "metadata": {},
   "outputs": [
    {
     "data": {
      "text/plain": [
       "(3528,)"
      ]
     },
     "execution_count": 28,
     "metadata": {},
     "output_type": "execute_result"
    }
   ],
   "source": [
    "Y_train.shape"
   ]
  },
  {
   "cell_type": "code",
   "execution_count": 19,
   "metadata": {},
   "outputs": [],
   "source": [
    "Y_test_data = testData['label']\n",
    "Y_test_data_list = []\n",
    "for i in range(len(Y_test_data)):\n",
    "    if Y_test_data[i] == \"good\":\n",
    "        Y_test_data_list.append(np.array([0]))\n",
    "    elif Y_test_data[i] == \"bad\":\n",
    "        Y_test_data_list.append(np.array([1]))\n",
    "    else:\n",
    "        Y_test_data_list.append(np.array([2]))\n",
    "Y_test = np.vstack(Y_test_data_list)"
   ]
  },
  {
   "cell_type": "code",
   "execution_count": 20,
   "metadata": {},
   "outputs": [
    {
     "data": {
      "text/plain": [
       "(394, 1)"
      ]
     },
     "execution_count": 20,
     "metadata": {},
     "output_type": "execute_result"
    }
   ],
   "source": [
    "Y_test.shape"
   ]
  },
  {
   "cell_type": "code",
   "execution_count": 21,
   "metadata": {},
   "outputs": [],
   "source": [
    "#因為用append所以是很多np.array, 所以用vstack改成單一np.array\n",
    "train_data = np.vstack(train_data)"
   ]
  },
  {
   "cell_type": "code",
   "execution_count": 22,
   "metadata": {},
   "outputs": [
    {
     "name": "stdout",
     "output_type": "stream",
     "text": [
      "(3528, 3, 64, 64)\n"
     ]
    }
   ],
   "source": [
    "print(train_data.shape)"
   ]
  },
  {
   "cell_type": "code",
   "execution_count": 51,
   "metadata": {},
   "outputs": [],
   "source": [
    "def train_epoch(model, train_data, Y_train, batch_size = 64, epoch = 10):\n",
    "    model.train()\n",
    "    for i in range(epoch):\n",
    "        epoch_loss = 0\n",
    "        batch_num = len(train_data) // batch_size\n",
    "        for j in range(batch_num):\n",
    "            begin = j * batch_size\n",
    "            end = min(begin + batch_size, train_data.shape[0] - 1)\n",
    "            X = train_data[begin:end, :, :, :]\n",
    "            Y = Y_train[begin:end]\n",
    "            m_batch = end - begin\n",
    "            \n",
    "            # converting validation images into torch format\n",
    "            X = torch.from_numpy(X).float()\n",
    "            Y = torch.from_numpy(Y)\n",
    "            \n",
    "            \n",
    "            \n",
    "            #X_afterCNN = CNN(X)\n",
    "            #X_afterCNN = X_afterCNN.view(X.shape[0], -1)\n",
    "            #X_afterDNN = DNN(X_afterCNN)\n",
    "            \n",
    "            X_afterDNN = model(X)\n",
    "            \n",
    "            #print(X_afterDNN)\n",
    "            #print(Y)\n",
    "            \n",
    "            loss = loss_func(X_afterDNN, Y)\n",
    "            epoch_loss += loss.item()\n",
    "            \n",
    "            optimizer.zero_grad()\n",
    "            loss.backward()\n",
    "            optimizer.step()\n",
    "            \n",
    "        \n",
    "        print(epoch_loss / train_data.shape[0])"
   ]
  },
  {
   "cell_type": "code",
   "execution_count": 52,
   "metadata": {},
   "outputs": [
    {
     "name": "stdout",
     "output_type": "stream",
     "text": [
      "0.009091199981787848\n",
      "0.00909123251261084\n",
      "0.009091264595723207\n",
      "0.009091293739150711\n",
      "0.009091322451762331\n",
      "0.009091346923794066\n",
      "0.009091372240562829\n",
      "0.009091395910094384\n",
      "0.009091417763441328\n",
      "0.00909143782594577\n"
     ]
    }
   ],
   "source": [
    "train_epoch(model, train_data, Y_train, batch_size = 64, epoch = 10)"
   ]
  },
  {
   "cell_type": "code",
   "execution_count": null,
   "metadata": {},
   "outputs": [],
   "source": []
  },
  {
   "cell_type": "code",
   "execution_count": null,
   "metadata": {},
   "outputs": [],
   "source": [
    "train_data[953].shape"
   ]
  },
  {
   "cell_type": "code",
   "execution_count": null,
   "metadata": {},
   "outputs": [],
   "source": [
    "plt.imshow(train_data[953])"
   ]
  },
  {
   "cell_type": "code",
   "execution_count": null,
   "metadata": {},
   "outputs": [],
   "source": [
    "np.random.permutation(10)"
   ]
  },
  {
   "cell_type": "code",
   "execution_count": null,
   "metadata": {},
   "outputs": [],
   "source": [
    "a = [1, 2, 3, 4]\n",
    "np.random.shuffle(a)\n",
    "a"
   ]
  },
  {
   "cell_type": "code",
   "execution_count": null,
   "metadata": {},
   "outputs": [],
   "source": []
  }
 ],
 "metadata": {
  "kernelspec": {
   "display_name": "Python 3",
   "language": "python",
   "name": "python3"
  },
  "language_info": {
   "codemirror_mode": {
    "name": "ipython",
    "version": 3
   },
   "file_extension": ".py",
   "mimetype": "text/x-python",
   "name": "python",
   "nbconvert_exporter": "python",
   "pygments_lexer": "ipython3",
   "version": "3.7.3"
  }
 },
 "nbformat": 4,
 "nbformat_minor": 4
}
