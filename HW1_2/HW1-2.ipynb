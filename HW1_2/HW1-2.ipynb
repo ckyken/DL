{
 "cells": [
  {
   "cell_type": "code",
   "execution_count": 1,
   "metadata": {},
   "outputs": [],
   "source": [
    "import pandas as pd\n",
    "from skimage.io import imread\n",
    "from skimage import io, data\n",
    "import matplotlib.pyplot as plt\n",
    "from tqdm import tqdm\n",
    "import numpy as np\n",
    "from skimage.transform import resize\n",
    "import torch\n",
    "import torch.nn as nn\n",
    "from torch.autograd import Variable\n",
    "from torch.nn import Linear, ReLU, CrossEntropyLoss, Sequential, Conv2d, MaxPool2d, Module, Softmax, BatchNorm2d, Dropout, Softmax\n",
    "from torch.optim import Adam, SGD"
   ]
  },
  {
   "cell_type": "code",
   "execution_count": 2,
   "metadata": {},
   "outputs": [],
   "source": [
    "trainData = pd.read_csv('problem2-CNN/train.csv')\n",
    "testData = pd.read_csv('problem2-CNN/test.csv')"
   ]
  },
  {
   "cell_type": "code",
   "execution_count": 3,
   "metadata": {},
   "outputs": [
    {
     "data": {
      "text/html": [
       "<div>\n",
       "<style scoped>\n",
       "    .dataframe tbody tr th:only-of-type {\n",
       "        vertical-align: middle;\n",
       "    }\n",
       "\n",
       "    .dataframe tbody tr th {\n",
       "        vertical-align: top;\n",
       "    }\n",
       "\n",
       "    .dataframe thead th {\n",
       "        text-align: right;\n",
       "    }\n",
       "</style>\n",
       "<table border=\"1\" class=\"dataframe\">\n",
       "  <thead>\n",
       "    <tr style=\"text-align: right;\">\n",
       "      <th></th>\n",
       "      <th>filename</th>\n",
       "      <th>width</th>\n",
       "      <th>height</th>\n",
       "      <th>label</th>\n",
       "      <th>xmin</th>\n",
       "      <th>ymin</th>\n",
       "      <th>xmax</th>\n",
       "      <th>ymax</th>\n",
       "    </tr>\n",
       "  </thead>\n",
       "  <tbody>\n",
       "    <tr>\n",
       "      <th>0</th>\n",
       "      <td>11893820-3x2-xlarge.jpg</td>\n",
       "      <td>862</td>\n",
       "      <td>575</td>\n",
       "      <td>bad</td>\n",
       "      <td>12</td>\n",
       "      <td>238</td>\n",
       "      <td>92</td>\n",
       "      <td>318</td>\n",
       "    </tr>\n",
       "    <tr>\n",
       "      <th>1</th>\n",
       "      <td>11893820-3x2-xlarge.jpg</td>\n",
       "      <td>862</td>\n",
       "      <td>575</td>\n",
       "      <td>bad</td>\n",
       "      <td>46</td>\n",
       "      <td>42</td>\n",
       "      <td>104</td>\n",
       "      <td>97</td>\n",
       "    </tr>\n",
       "    <tr>\n",
       "      <th>2</th>\n",
       "      <td>11893820-3x2-xlarge.jpg</td>\n",
       "      <td>862</td>\n",
       "      <td>575</td>\n",
       "      <td>good</td>\n",
       "      <td>103</td>\n",
       "      <td>24</td>\n",
       "      <td>150</td>\n",
       "      <td>79</td>\n",
       "    </tr>\n",
       "    <tr>\n",
       "      <th>3</th>\n",
       "      <td>11893820-3x2-xlarge.jpg</td>\n",
       "      <td>862</td>\n",
       "      <td>575</td>\n",
       "      <td>good</td>\n",
       "      <td>243</td>\n",
       "      <td>2</td>\n",
       "      <td>291</td>\n",
       "      <td>51</td>\n",
       "    </tr>\n",
       "    <tr>\n",
       "      <th>4</th>\n",
       "      <td>11893820-3x2-xlarge.jpg</td>\n",
       "      <td>862</td>\n",
       "      <td>575</td>\n",
       "      <td>bad</td>\n",
       "      <td>166</td>\n",
       "      <td>36</td>\n",
       "      <td>228</td>\n",
       "      <td>99</td>\n",
       "    </tr>\n",
       "    <tr>\n",
       "      <th>...</th>\n",
       "      <td>...</td>\n",
       "      <td>...</td>\n",
       "      <td>...</td>\n",
       "      <td>...</td>\n",
       "      <td>...</td>\n",
       "      <td>...</td>\n",
       "      <td>...</td>\n",
       "      <td>...</td>\n",
       "    </tr>\n",
       "    <tr>\n",
       "      <th>3523</th>\n",
       "      <td>kljlhk.jpg</td>\n",
       "      <td>1548</td>\n",
       "      <td>1032</td>\n",
       "      <td>good</td>\n",
       "      <td>1481</td>\n",
       "      <td>239</td>\n",
       "      <td>1546</td>\n",
       "      <td>353</td>\n",
       "    </tr>\n",
       "    <tr>\n",
       "      <th>3524</th>\n",
       "      <td>kljlhk.jpg</td>\n",
       "      <td>1548</td>\n",
       "      <td>1032</td>\n",
       "      <td>good</td>\n",
       "      <td>328</td>\n",
       "      <td>273</td>\n",
       "      <td>361</td>\n",
       "      <td>312</td>\n",
       "    </tr>\n",
       "    <tr>\n",
       "      <th>3525</th>\n",
       "      <td>kljlhk.jpg</td>\n",
       "      <td>1548</td>\n",
       "      <td>1032</td>\n",
       "      <td>good</td>\n",
       "      <td>283</td>\n",
       "      <td>245</td>\n",
       "      <td>318</td>\n",
       "      <td>289</td>\n",
       "    </tr>\n",
       "    <tr>\n",
       "      <th>3526</th>\n",
       "      <td>kljlhk.jpg</td>\n",
       "      <td>1548</td>\n",
       "      <td>1032</td>\n",
       "      <td>good</td>\n",
       "      <td>226</td>\n",
       "      <td>251</td>\n",
       "      <td>257</td>\n",
       "      <td>289</td>\n",
       "    </tr>\n",
       "    <tr>\n",
       "      <th>3527</th>\n",
       "      <td>kljlhk.jpg</td>\n",
       "      <td>1548</td>\n",
       "      <td>1032</td>\n",
       "      <td>good</td>\n",
       "      <td>169</td>\n",
       "      <td>250</td>\n",
       "      <td>205</td>\n",
       "      <td>281</td>\n",
       "    </tr>\n",
       "  </tbody>\n",
       "</table>\n",
       "<p>3528 rows × 8 columns</p>\n",
       "</div>"
      ],
      "text/plain": [
       "                     filename  width  height label  xmin  ymin  xmax  ymax\n",
       "0     11893820-3x2-xlarge.jpg    862     575   bad    12   238    92   318\n",
       "1     11893820-3x2-xlarge.jpg    862     575   bad    46    42   104    97\n",
       "2     11893820-3x2-xlarge.jpg    862     575  good   103    24   150    79\n",
       "3     11893820-3x2-xlarge.jpg    862     575  good   243     2   291    51\n",
       "4     11893820-3x2-xlarge.jpg    862     575   bad   166    36   228    99\n",
       "...                       ...    ...     ...   ...   ...   ...   ...   ...\n",
       "3523               kljlhk.jpg   1548    1032  good  1481   239  1546   353\n",
       "3524               kljlhk.jpg   1548    1032  good   328   273   361   312\n",
       "3525               kljlhk.jpg   1548    1032  good   283   245   318   289\n",
       "3526               kljlhk.jpg   1548    1032  good   226   251   257   289\n",
       "3527               kljlhk.jpg   1548    1032  good   169   250   205   281\n",
       "\n",
       "[3528 rows x 8 columns]"
      ]
     },
     "execution_count": 3,
     "metadata": {},
     "output_type": "execute_result"
    }
   ],
   "source": [
    "trainData"
   ]
  },
  {
   "cell_type": "code",
   "execution_count": 4,
   "metadata": {},
   "outputs": [],
   "source": [
    "img_num = trainData['filename']\n",
    "img_num_test = testData['filename']\n",
    "Y_train_data = trainData['label']\n",
    "Y_test_data = testData['label']"
   ]
  },
  {
   "cell_type": "code",
   "execution_count": 5,
   "metadata": {},
   "outputs": [],
   "source": [
    "# image_path = 'problem2-CNN/images/' + str(filename_1)\n",
    "# img = imread(image_path)\n",
    "# plt.imshow(img)"
   ]
  },
  {
   "cell_type": "code",
   "execution_count": null,
   "metadata": {},
   "outputs": [],
   "source": []
  },
  {
   "cell_type": "code",
   "execution_count": 6,
   "metadata": {},
   "outputs": [
    {
     "name": "stderr",
     "output_type": "stream",
     "text": [
      "100%|██████████| 3528/3528 [01:48<00:00, 32.37it/s]\n"
     ]
    }
   ],
   "source": [
    "train_data = []\n",
    "\n",
    "for i in tqdm(range(len(img_num))):\n",
    "    filename = trainData['filename'][i]\n",
    "    image_path = 'problem2-CNN/images/' + str(filename)\n",
    "    img = imread(image_path)\n",
    "    if img.shape[-1] > 3:\n",
    "        # discard alpha channel\n",
    "        img = img[:, :, :3]\n",
    "    xmin = trainData['xmin'][i]\n",
    "    xmax = trainData['xmax'][i]\n",
    "    ymin = trainData['ymin'][i]\n",
    "    ymax = trainData['ymax'][i]\n",
    "    #   切割與resize\n",
    "    partial_img_temp = img[ymin:ymax, xmin:xmax, :]\n",
    "    partial_img = resize(partial_img_temp, (64, 64))\n",
    "    \n",
    "    partial_img = np.reshape(partial_img, (1, 3, 64, 64))\n",
    "    #   貌似normalize過惹 \n",
    "    \n",
    "    \n",
    "    \n",
    "        #解決data unbalabce\n",
    "    if Y_train_data[i] == \"bad\":\n",
    "        for i in range(4):\n",
    "            train_data.append(partial_img)\n",
    "    elif Y_train_data[i] == \"none\":\n",
    "        for i in range(20):\n",
    "            train_data.append(partial_img)\n",
    "        #解決data unbalabce\n",
    "    else:\n",
    "        train_data.append(partial_img)\n",
    "#     io.imshow(partial_img)\n",
    "#     io.show()"
   ]
  },
  {
   "cell_type": "code",
   "execution_count": null,
   "metadata": {},
   "outputs": [],
   "source": []
  },
  {
   "cell_type": "code",
   "execution_count": 7,
   "metadata": {},
   "outputs": [
    {
     "name": "stderr",
     "output_type": "stream",
     "text": [
      "100%|██████████| 394/394 [00:10<00:00, 37.61it/s]\n"
     ]
    }
   ],
   "source": [
    "test_data = []\n",
    "\n",
    "for i in tqdm(range(len(img_num_test))):\n",
    "    filename = testData['filename'][i]\n",
    "    image_path = 'problem2-CNN/images/' + str(filename)\n",
    "    img = imread(image_path)\n",
    "    if img.shape[-1] > 3:\n",
    "        # discard alpha channel\n",
    "        img = img[:, :, :3]\n",
    "    xmin = testData['xmin'][i]\n",
    "    xmax = testData['xmax'][i]\n",
    "    ymin = testData['ymin'][i]\n",
    "    ymax = testData['ymax'][i]\n",
    "    #   切割與resize\n",
    "    partial_img_temp = img[ymin:ymax, xmin:xmax, :]\n",
    "    partial_img = resize(partial_img_temp, (64, 64))\n",
    "    partial_img = np.reshape(partial_img, (1, 3, 64, 64))\n",
    "    #   貌似normalize過惹 \n",
    "    test_data.append(partial_img)"
   ]
  },
  {
   "cell_type": "code",
   "execution_count": null,
   "metadata": {},
   "outputs": [],
   "source": []
  },
  {
   "cell_type": "code",
   "execution_count": 8,
   "metadata": {},
   "outputs": [],
   "source": [
    "# plt.imshow(train_data[0])"
   ]
  },
  {
   "cell_type": "code",
   "execution_count": 9,
   "metadata": {},
   "outputs": [
    {
     "name": "stdout",
     "output_type": "stream",
     "text": [
      "(1, 3, 64, 64)\n"
     ]
    }
   ],
   "source": [
    "print(train_data[0].shape)"
   ]
  },
  {
   "cell_type": "code",
   "execution_count": 10,
   "metadata": {},
   "outputs": [],
   "source": [
    "#train_data_temp = resize(train_data[0], (64, 64))"
   ]
  },
  {
   "cell_type": "code",
   "execution_count": 11,
   "metadata": {},
   "outputs": [],
   "source": [
    "#plt.imshow(train_data_temp)"
   ]
  },
  {
   "cell_type": "code",
   "execution_count": 12,
   "metadata": {},
   "outputs": [],
   "source": [
    "#np.max(train_data_temp)"
   ]
  },
  {
   "cell_type": "code",
   "execution_count": 13,
   "metadata": {},
   "outputs": [],
   "source": [
    "# N is batch size; D_in is input dimension;\n",
    "# H is hidden dimension; D_out is output dimension.\n",
    "\n",
    "# N, D_in, H, D_out = 64, 1000, 100, 3\n",
    "#D_in, H, D_out = 4 * 16 * 16, 100, 3\n"
   ]
  },
  {
   "cell_type": "code",
   "execution_count": 14,
   "metadata": {},
   "outputs": [],
   "source": [
    "def evaluation(predicts, golds):\n",
    "    correct = 0\n",
    "    total = len(predicts)\n",
    "    for predict, gold in zip(predicts, golds):\n",
    "        if predict == gold:\n",
    "            correct += 1\n",
    "    return correct / total"
   ]
  },
  {
   "cell_type": "code",
   "execution_count": 15,
   "metadata": {},
   "outputs": [],
   "source": [
    " class Net(nn.Module):\n",
    "        def __init__(self, D_in = 4 * 16 * 16, H = 100, D_out = 3):\n",
    "            super(Net, self).__init__()\n",
    "            self.CNN = nn.Sequential(\n",
    "                    # Defining a 2D convolution layer\n",
    "                Conv2d(3, 4, kernel_size=3, stride=1, padding=1),\n",
    "                BatchNorm2d(4),\n",
    "                ReLU(inplace=True),\n",
    "                MaxPool2d(kernel_size=2, stride=2),\n",
    "                    # Defining another 2D convolution layer\n",
    "                Conv2d(4, 4, kernel_size=3, stride=1, padding=1),\n",
    "                BatchNorm2d(4),\n",
    "                ReLU(inplace=True),\n",
    "                MaxPool2d(kernel_size=2, stride=2),\n",
    "\n",
    "            )\n",
    "            self.DNN = nn.Sequential(\n",
    "                nn.Linear(D_in, H),\n",
    "                nn.ReLU(),\n",
    "                nn.Linear(H, D_out),\n",
    "                \n",
    "            )\n",
    "#             self.softmax = nn.Softmax\n",
    "            \n",
    "        def forward(self, x):\n",
    "            x = self.CNN(x)\n",
    "            x = x.view(x.shape[0], -1)\n",
    "            x = self.DNN(x)\n",
    "#             x = self.softmax(x)\n",
    "            return x"
   ]
  },
  {
   "cell_type": "code",
   "execution_count": 16,
   "metadata": {},
   "outputs": [],
   "source": [
    "loss_func = nn.CrossEntropyLoss(reduction='sum')\n",
    "model = Net()\n",
    "optimizer = Adam(model.parameters(), lr=0.0005)"
   ]
  },
  {
   "cell_type": "code",
   "execution_count": null,
   "metadata": {},
   "outputs": [],
   "source": []
  },
  {
   "cell_type": "code",
   "execution_count": 17,
   "metadata": {},
   "outputs": [],
   "source": [
    "#test\n",
    "\n",
    "# train_data_temp = np.reshape(train_data_temp, (1, 3, 64, 64))\n",
    "# testtest = torch.from_numpy(train_data_temp).float()\n",
    "# #print(testtest)\n",
    "# #testtest = Variable(testtest)\n",
    "# #print(testtest)\n",
    "\n",
    "# y_pred = CNN(testtest)\n",
    "# y_pred = y_pred.view(train_data_temp.shape[0], -1)\n",
    "# y_out = DNN(y_pred)\n",
    "# #loss = loss_func(y_out)\n",
    "\n"
   ]
  },
  {
   "cell_type": "code",
   "execution_count": 18,
   "metadata": {},
   "outputs": [],
   "source": [
    "Y_train_data = trainData['label']\n",
    "Y_train_data_list = []\n",
    "for i in range(len(Y_train_data)):\n",
    "    if Y_train_data[i] == \"good\":\n",
    "        Y_train_data_list.append(np.array([0]))\n",
    "    elif Y_train_data[i] == \"bad\":\n",
    "        for i in range(4):\n",
    "            Y_train_data_list.append(np.array([1]))\n",
    "    else:\n",
    "        for i in range(20):\n",
    "            Y_train_data_list.append(np.array([2]))\n",
    "Y_train = np.vstack(Y_train_data_list)\n",
    "        "
   ]
  },
  {
   "cell_type": "code",
   "execution_count": 19,
   "metadata": {},
   "outputs": [
    {
     "data": {
      "text/plain": [
       "(7238, 1)"
      ]
     },
     "execution_count": 19,
     "metadata": {},
     "output_type": "execute_result"
    }
   ],
   "source": [
    "Y_train.shape"
   ]
  },
  {
   "cell_type": "code",
   "execution_count": 20,
   "metadata": {},
   "outputs": [],
   "source": [
    "Y_train = np.reshape(Y_train, (-1))\n"
   ]
  },
  {
   "cell_type": "code",
   "execution_count": 21,
   "metadata": {},
   "outputs": [
    {
     "data": {
      "text/plain": [
       "(7238,)"
      ]
     },
     "execution_count": 21,
     "metadata": {},
     "output_type": "execute_result"
    }
   ],
   "source": [
    "Y_train.shape"
   ]
  },
  {
   "cell_type": "code",
   "execution_count": 22,
   "metadata": {},
   "outputs": [],
   "source": [
    "Y_test_data = testData['label']\n",
    "Y_test_data_list = []\n",
    "for i in range(len(Y_test_data)):\n",
    "    if Y_test_data[i] == \"good\":\n",
    "        Y_test_data_list.append(np.array([0]))\n",
    "    elif Y_test_data[i] == \"bad\":\n",
    "        Y_test_data_list.append(np.array([1]))\n",
    "    else:\n",
    "        Y_test_data_list.append(np.array([2]))\n",
    "Y_test = np.vstack(Y_test_data_list)"
   ]
  },
  {
   "cell_type": "code",
   "execution_count": 23,
   "metadata": {},
   "outputs": [],
   "source": [
    "Y_test = np.reshape(Y_test, (-1))"
   ]
  },
  {
   "cell_type": "code",
   "execution_count": 24,
   "metadata": {},
   "outputs": [
    {
     "data": {
      "text/plain": [
       "(394,)"
      ]
     },
     "execution_count": 24,
     "metadata": {},
     "output_type": "execute_result"
    }
   ],
   "source": [
    "Y_test.shape"
   ]
  },
  {
   "cell_type": "code",
   "execution_count": 25,
   "metadata": {},
   "outputs": [],
   "source": [
    "#因為用append所以是很多np.array, 所以用vstack改成單一np.array\n",
    "train_data = np.vstack(train_data)\n",
    "test_data = np.vstack(test_data)"
   ]
  },
  {
   "cell_type": "code",
   "execution_count": 26,
   "metadata": {},
   "outputs": [
    {
     "name": "stdout",
     "output_type": "stream",
     "text": [
      "(7238, 3, 64, 64)\n"
     ]
    }
   ],
   "source": [
    "print(train_data.shape)"
   ]
  },
  {
   "cell_type": "code",
   "execution_count": 27,
   "metadata": {},
   "outputs": [],
   "source": [
    "def train_epoch(model, train_data, Y_train, test_data, Y_test, batch_size = 64, epoch = 10):\n",
    "    model.train()\n",
    "    test_data = torch.from_numpy(test_data).float()\n",
    "    Y_test = torch.from_numpy(Y_test)\n",
    "    loss_append = []\n",
    "    train_accur = []\n",
    "    for i in range(epoch):\n",
    "        permutation = np.random.permutation(train_data.shape[0])\n",
    "        train_data_shuffled = train_data[permutation, :, :, :]\n",
    "        Y_train_shuffled = Y_train[permutation]\n",
    "        epoch_loss = 0\n",
    "        batch_num = len(train_data) // batch_size\n",
    "        predicts = []\n",
    "        predicts_test = []\n",
    "        golds = []\n",
    "        \n",
    "        \n",
    "        for j in range(batch_num):\n",
    "            model.train(mode=True)\n",
    "            begin = j * batch_size\n",
    "            end = min(begin + batch_size, train_data.shape[0] - 1)\n",
    "            X = train_data_shuffled[begin:end, :, :, :]\n",
    "#             print(X[0])\n",
    "            Y = Y_train_shuffled[begin:end]\n",
    "            m_batch = end - begin\n",
    "            \n",
    "            # converting validation images into torch format\n",
    "            X = torch.from_numpy(X).float()\n",
    "            Y = torch.from_numpy(Y)\n",
    "            \n",
    "            \n",
    "            \n",
    "            #X_afterCNN = CNN(X)\n",
    "            #X_afterCNN = X_afterCNN.view(X.shape[0], -1)\n",
    "            #X_afterDNN = DNN(X_afterCNN)\n",
    "            \n",
    "            X_afterDNN = model(X)\n",
    "            y_hat = torch.softmax(X_afterDNN, dim=1)\n",
    "            \n",
    "            #------test data-------------\n",
    "            model.eval()\n",
    "            \n",
    "            test_result_temp = model(test_data)\n",
    "            test_result = torch.softmax(test_result_temp, dim=1)\n",
    "            #print(X_afterDNN)\n",
    "            #print(Y)\n",
    "            \n",
    "            loss = loss_func(y_hat, Y)\n",
    "            epoch_loss += loss.item()\n",
    "            \n",
    "            optimizer.zero_grad()\n",
    "            loss.backward()\n",
    "            optimizer.step()\n",
    "            \n",
    "#             print(y_hat)\n",
    "#             print(test_result)\n",
    "\n",
    "\n",
    "            golds += Y.tolist()\n",
    "            predicts += torch.argmax(y_hat, dim=1).tolist()\n",
    "        \n",
    "#         print(\"predict : \", predicts)\n",
    "\n",
    "        predicts_test += torch.argmax(test_result, dim=1).tolist()\n",
    "        loss_append.append(epoch_loss)\n",
    "        train_accur.append(evaluation(predicts, golds))\n",
    "\n",
    "#         print(\"gold : \", golds)\n",
    "#         print(predicts)\n",
    "#         print(Y_train)\n",
    "#         golds += np.argmax(Y_train, axis=).tolist()\n",
    "        print(\"epoch : \", i + 1, \"loss : \", epoch_loss / train_data.shape[0], \"train_accur : \"\n",
    "              , evaluation(predicts, golds), \"test_accur : \", evaluation(predicts_test, Y_test))\n",
    "#     with open(\"HW2_cross_entropy_loss.json\", mode=\"w\") as stream:\n",
    "#         json.dump(TrainError, stream)\n",
    "#     with open(\"HW2_Training_accurancy.json\", mode=\"w\") as stream:\n",
    "#         json.dump(TrainError, stream)"
   ]
  },
  {
   "cell_type": "code",
   "execution_count": 28,
   "metadata": {},
   "outputs": [
    {
     "name": "stdout",
     "output_type": "stream",
     "text": [
      "epoch :  1 loss :  0.9078002549166441 train_accur :  0.6474004424778761 test_accur :  0.7258883248730964\n",
      "epoch :  2 loss :  0.7458955459615808 train_accur :  0.8176161504424779 test_accur :  0.7791878172588832\n",
      "epoch :  3 loss :  0.6921082296632344 train_accur :  0.8747234513274337 test_accur :  0.7817258883248731\n",
      "epoch :  4 loss :  0.6701768515155473 train_accur :  0.8917311946902655 test_accur :  0.8274111675126904\n",
      "epoch :  5 loss :  0.6427755806452005 train_accur :  0.9209070796460177 test_accur :  0.8908629441624365\n",
      "epoch :  6 loss :  0.6169511721785735 train_accur :  0.9433075221238938 test_accur :  0.8629441624365483\n",
      "epoch :  7 loss :  0.6052197242646166 train_accur :  0.9535398230088495 test_accur :  0.8908629441624365\n",
      "epoch :  8 loss :  0.6008117214096419 train_accur :  0.9563053097345132 test_accur :  0.8934010152284264\n",
      "epoch :  9 loss :  0.5973859419642182 train_accur :  0.9579646017699115 test_accur :  0.9010152284263959\n",
      "epoch :  10 loss :  0.5945696418342685 train_accur :  0.9603152654867256 test_accur :  0.9060913705583756\n",
      "epoch :  11 loss :  0.5936542636421248 train_accur :  0.9611449115044248 test_accur :  0.8984771573604061\n",
      "epoch :  12 loss :  0.59002374594763 train_accur :  0.9646017699115044 test_accur :  0.8984771573604061\n",
      "epoch :  13 loss :  0.5891488205171086 train_accur :  0.964325221238938 test_accur :  0.9035532994923858\n",
      "epoch :  14 loss :  0.5875672021271874 train_accur :  0.9655696902654868 test_accur :  0.9086294416243654\n",
      "epoch :  15 loss :  0.5866550889322197 train_accur :  0.9659845132743363 test_accur :  0.8908629441624365\n",
      "epoch :  16 loss :  0.5857519706858888 train_accur :  0.9668141592920354 test_accur :  0.8959390862944162\n",
      "epoch :  17 loss :  0.5841850587497531 train_accur :  0.968058628318584 test_accur :  0.9010152284263959\n",
      "epoch :  18 loss :  0.584254593966448 train_accur :  0.9683351769911505 test_accur :  0.8908629441624365\n",
      "epoch :  19 loss :  0.5834860800379184 train_accur :  0.9686117256637168 test_accur :  0.9060913705583756\n",
      "epoch :  20 loss :  0.5830811197239247 train_accur :  0.9686117256637168 test_accur :  0.9010152284263959\n",
      "epoch :  21 loss :  0.5825571680503776 train_accur :  0.9693030973451328 test_accur :  0.9035532994923858\n",
      "epoch :  22 loss :  0.5820659053493646 train_accur :  0.9693030973451328 test_accur :  0.8984771573604061\n",
      "epoch :  23 loss :  0.5821126472492117 train_accur :  0.969441371681416 test_accur :  0.9086294416243654\n",
      "epoch :  24 loss :  0.5816399831737593 train_accur :  0.9695796460176991 test_accur :  0.9111675126903553\n",
      "epoch :  25 loss :  0.581731339323155 train_accur :  0.9695796460176991 test_accur :  0.9010152284263959\n",
      "epoch :  26 loss :  0.5818021088616233 train_accur :  0.969441371681416 test_accur :  0.9086294416243654\n",
      "epoch :  27 loss :  0.5815742805736043 train_accur :  0.9695796460176991 test_accur :  0.9035532994923858\n",
      "epoch :  28 loss :  0.584403159507041 train_accur :  0.9683351769911505 test_accur :  0.9111675126903553\n",
      "epoch :  29 loss :  0.5812462793262204 train_accur :  0.9702710176991151 test_accur :  0.9137055837563451\n",
      "epoch :  30 loss :  0.585542363664596 train_accur :  0.9668141592920354 test_accur :  0.8451776649746193\n",
      "epoch :  31 loss :  0.5837110507287318 train_accur :  0.9688882743362832 test_accur :  0.8984771573604061\n",
      "epoch :  32 loss :  0.5810579883357246 train_accur :  0.9704092920353983 test_accur :  0.8984771573604061\n",
      "epoch :  33 loss :  0.5802219746092401 train_accur :  0.9709623893805309 test_accur :  0.8959390862944162\n",
      "epoch :  34 loss :  0.5798200252603583 train_accur :  0.9712389380530974 test_accur :  0.9060913705583756\n",
      "epoch :  35 loss :  0.5795877461408376 train_accur :  0.9712389380530974 test_accur :  0.9010152284263959\n",
      "epoch :  36 loss :  0.5795968375373328 train_accur :  0.9712389380530974 test_accur :  0.8984771573604061\n",
      "epoch :  37 loss :  0.5796031604059562 train_accur :  0.9712389380530974 test_accur :  0.9035532994923858\n",
      "epoch :  38 loss :  0.579666004881868 train_accur :  0.9712389380530974 test_accur :  0.8984771573604061\n",
      "epoch :  39 loss :  0.5798219489471528 train_accur :  0.9711006637168141 test_accur :  0.9086294416243654\n",
      "epoch :  40 loss :  0.5810831069419251 train_accur :  0.9704092920353983 test_accur :  0.9060913705583756\n",
      "epoch :  41 loss :  0.5866691703195565 train_accur :  0.9655696902654868 test_accur :  0.8959390862944162\n",
      "epoch :  42 loss :  0.5802045323039063 train_accur :  0.9711006637168141 test_accur :  0.9035532994923858\n",
      "epoch :  43 loss :  0.5795212577278029 train_accur :  0.9713772123893806 test_accur :  0.8959390862944162\n",
      "epoch :  44 loss :  0.5795736958487121 train_accur :  0.9713772123893806 test_accur :  0.9086294416243654\n",
      "epoch :  45 loss :  0.5795063778786871 train_accur :  0.9713772123893806 test_accur :  0.9060913705583756\n",
      "epoch :  46 loss :  0.5795675521728313 train_accur :  0.9713772123893806 test_accur :  0.9060913705583756\n",
      "epoch :  47 loss :  0.5809520121666897 train_accur :  0.9706858407079646 test_accur :  0.9035532994923858\n",
      "epoch :  48 loss :  0.5796162630846963 train_accur :  0.9713772123893806 test_accur :  0.8984771573604061\n",
      "epoch :  49 loss :  0.5795815755860454 train_accur :  0.9713772123893806 test_accur :  0.8984771573604061\n",
      "epoch :  50 loss :  0.5793088347452653 train_accur :  0.9715154867256637 test_accur :  0.9137055837563451\n"
     ]
    }
   ],
   "source": [
    "train_epoch(model, train_data, Y_train, test_data, Y_test, batch_size = 64, epoch = 50)"
   ]
  },
  {
   "cell_type": "code",
   "execution_count": 29,
   "metadata": {},
   "outputs": [
    {
     "data": {
      "text/plain": [
       "array([0, 1, 2])"
      ]
     },
     "execution_count": 29,
     "metadata": {},
     "output_type": "execute_result"
    }
   ],
   "source": [
    "np.unique(Y_train)"
   ]
  },
  {
   "cell_type": "code",
   "execution_count": 30,
   "metadata": {},
   "outputs": [
    {
     "data": {
      "text/plain": [
       "(3, 64, 64)"
      ]
     },
     "execution_count": 30,
     "metadata": {},
     "output_type": "execute_result"
    }
   ],
   "source": [
    "train_data[953].shape"
   ]
  },
  {
   "cell_type": "code",
   "execution_count": 31,
   "metadata": {},
   "outputs": [
    {
     "ename": "TypeError",
     "evalue": "Invalid shape (3, 64, 64) for image data",
     "output_type": "error",
     "traceback": [
      "\u001b[0;31m---------------------------------------------------------------------------\u001b[0m",
      "\u001b[0;31mTypeError\u001b[0m                                 Traceback (most recent call last)",
      "\u001b[0;32m<ipython-input-31-4d82675ea0be>\u001b[0m in \u001b[0;36m<module>\u001b[0;34m\u001b[0m\n\u001b[0;32m----> 1\u001b[0;31m \u001b[0mplt\u001b[0m\u001b[0;34m.\u001b[0m\u001b[0mimshow\u001b[0m\u001b[0;34m(\u001b[0m\u001b[0mtrain_data\u001b[0m\u001b[0;34m[\u001b[0m\u001b[0;36m953\u001b[0m\u001b[0;34m]\u001b[0m\u001b[0;34m)\u001b[0m\u001b[0;34m\u001b[0m\u001b[0;34m\u001b[0m\u001b[0m\n\u001b[0m",
      "\u001b[0;32m~/Library/Python/3.7/lib/python/site-packages/matplotlib/pyplot.py\u001b[0m in \u001b[0;36mimshow\u001b[0;34m(X, cmap, norm, aspect, interpolation, alpha, vmin, vmax, origin, extent, shape, filternorm, filterrad, imlim, resample, url, data, **kwargs)\u001b[0m\n\u001b[1;32m   2649\u001b[0m         \u001b[0mfilternorm\u001b[0m\u001b[0;34m=\u001b[0m\u001b[0mfilternorm\u001b[0m\u001b[0;34m,\u001b[0m \u001b[0mfilterrad\u001b[0m\u001b[0;34m=\u001b[0m\u001b[0mfilterrad\u001b[0m\u001b[0;34m,\u001b[0m \u001b[0mimlim\u001b[0m\u001b[0;34m=\u001b[0m\u001b[0mimlim\u001b[0m\u001b[0;34m,\u001b[0m\u001b[0;34m\u001b[0m\u001b[0;34m\u001b[0m\u001b[0m\n\u001b[1;32m   2650\u001b[0m         resample=resample, url=url, **({\"data\": data} if data is not\n\u001b[0;32m-> 2651\u001b[0;31m         None else {}), **kwargs)\n\u001b[0m\u001b[1;32m   2652\u001b[0m     \u001b[0msci\u001b[0m\u001b[0;34m(\u001b[0m\u001b[0m__ret\u001b[0m\u001b[0;34m)\u001b[0m\u001b[0;34m\u001b[0m\u001b[0;34m\u001b[0m\u001b[0m\n\u001b[1;32m   2653\u001b[0m     \u001b[0;32mreturn\u001b[0m \u001b[0m__ret\u001b[0m\u001b[0;34m\u001b[0m\u001b[0;34m\u001b[0m\u001b[0m\n",
      "\u001b[0;32m~/Library/Python/3.7/lib/python/site-packages/matplotlib/__init__.py\u001b[0m in \u001b[0;36minner\u001b[0;34m(ax, data, *args, **kwargs)\u001b[0m\n\u001b[1;32m   1563\u001b[0m     \u001b[0;32mdef\u001b[0m \u001b[0minner\u001b[0m\u001b[0;34m(\u001b[0m\u001b[0max\u001b[0m\u001b[0;34m,\u001b[0m \u001b[0;34m*\u001b[0m\u001b[0margs\u001b[0m\u001b[0;34m,\u001b[0m \u001b[0mdata\u001b[0m\u001b[0;34m=\u001b[0m\u001b[0;32mNone\u001b[0m\u001b[0;34m,\u001b[0m \u001b[0;34m**\u001b[0m\u001b[0mkwargs\u001b[0m\u001b[0;34m)\u001b[0m\u001b[0;34m:\u001b[0m\u001b[0;34m\u001b[0m\u001b[0;34m\u001b[0m\u001b[0m\n\u001b[1;32m   1564\u001b[0m         \u001b[0;32mif\u001b[0m \u001b[0mdata\u001b[0m \u001b[0;32mis\u001b[0m \u001b[0;32mNone\u001b[0m\u001b[0;34m:\u001b[0m\u001b[0;34m\u001b[0m\u001b[0;34m\u001b[0m\u001b[0m\n\u001b[0;32m-> 1565\u001b[0;31m             \u001b[0;32mreturn\u001b[0m \u001b[0mfunc\u001b[0m\u001b[0;34m(\u001b[0m\u001b[0max\u001b[0m\u001b[0;34m,\u001b[0m \u001b[0;34m*\u001b[0m\u001b[0mmap\u001b[0m\u001b[0;34m(\u001b[0m\u001b[0msanitize_sequence\u001b[0m\u001b[0;34m,\u001b[0m \u001b[0margs\u001b[0m\u001b[0;34m)\u001b[0m\u001b[0;34m,\u001b[0m \u001b[0;34m**\u001b[0m\u001b[0mkwargs\u001b[0m\u001b[0;34m)\u001b[0m\u001b[0;34m\u001b[0m\u001b[0;34m\u001b[0m\u001b[0m\n\u001b[0m\u001b[1;32m   1566\u001b[0m \u001b[0;34m\u001b[0m\u001b[0m\n\u001b[1;32m   1567\u001b[0m         \u001b[0mbound\u001b[0m \u001b[0;34m=\u001b[0m \u001b[0mnew_sig\u001b[0m\u001b[0;34m.\u001b[0m\u001b[0mbind\u001b[0m\u001b[0;34m(\u001b[0m\u001b[0max\u001b[0m\u001b[0;34m,\u001b[0m \u001b[0;34m*\u001b[0m\u001b[0margs\u001b[0m\u001b[0;34m,\u001b[0m \u001b[0;34m**\u001b[0m\u001b[0mkwargs\u001b[0m\u001b[0;34m)\u001b[0m\u001b[0;34m\u001b[0m\u001b[0;34m\u001b[0m\u001b[0m\n",
      "\u001b[0;32m~/Library/Python/3.7/lib/python/site-packages/matplotlib/cbook/deprecation.py\u001b[0m in \u001b[0;36mwrapper\u001b[0;34m(*args, **kwargs)\u001b[0m\n\u001b[1;32m    356\u001b[0m                 \u001b[0;34mf\"%(removal)s.  If any parameter follows {name!r}, they \"\u001b[0m\u001b[0;34m\u001b[0m\u001b[0;34m\u001b[0m\u001b[0m\n\u001b[1;32m    357\u001b[0m                 f\"should be pass as keyword, not positionally.\")\n\u001b[0;32m--> 358\u001b[0;31m         \u001b[0;32mreturn\u001b[0m \u001b[0mfunc\u001b[0m\u001b[0;34m(\u001b[0m\u001b[0;34m*\u001b[0m\u001b[0margs\u001b[0m\u001b[0;34m,\u001b[0m \u001b[0;34m**\u001b[0m\u001b[0mkwargs\u001b[0m\u001b[0;34m)\u001b[0m\u001b[0;34m\u001b[0m\u001b[0;34m\u001b[0m\u001b[0m\n\u001b[0m\u001b[1;32m    359\u001b[0m \u001b[0;34m\u001b[0m\u001b[0m\n\u001b[1;32m    360\u001b[0m     \u001b[0;32mreturn\u001b[0m \u001b[0mwrapper\u001b[0m\u001b[0;34m\u001b[0m\u001b[0;34m\u001b[0m\u001b[0m\n",
      "\u001b[0;32m~/Library/Python/3.7/lib/python/site-packages/matplotlib/cbook/deprecation.py\u001b[0m in \u001b[0;36mwrapper\u001b[0;34m(*args, **kwargs)\u001b[0m\n\u001b[1;32m    356\u001b[0m                 \u001b[0;34mf\"%(removal)s.  If any parameter follows {name!r}, they \"\u001b[0m\u001b[0;34m\u001b[0m\u001b[0;34m\u001b[0m\u001b[0m\n\u001b[1;32m    357\u001b[0m                 f\"should be pass as keyword, not positionally.\")\n\u001b[0;32m--> 358\u001b[0;31m         \u001b[0;32mreturn\u001b[0m \u001b[0mfunc\u001b[0m\u001b[0;34m(\u001b[0m\u001b[0;34m*\u001b[0m\u001b[0margs\u001b[0m\u001b[0;34m,\u001b[0m \u001b[0;34m**\u001b[0m\u001b[0mkwargs\u001b[0m\u001b[0;34m)\u001b[0m\u001b[0;34m\u001b[0m\u001b[0;34m\u001b[0m\u001b[0m\n\u001b[0m\u001b[1;32m    359\u001b[0m \u001b[0;34m\u001b[0m\u001b[0m\n\u001b[1;32m    360\u001b[0m     \u001b[0;32mreturn\u001b[0m \u001b[0mwrapper\u001b[0m\u001b[0;34m\u001b[0m\u001b[0;34m\u001b[0m\u001b[0m\n",
      "\u001b[0;32m~/Library/Python/3.7/lib/python/site-packages/matplotlib/axes/_axes.py\u001b[0m in \u001b[0;36mimshow\u001b[0;34m(self, X, cmap, norm, aspect, interpolation, alpha, vmin, vmax, origin, extent, shape, filternorm, filterrad, imlim, resample, url, **kwargs)\u001b[0m\n\u001b[1;32m   5613\u001b[0m                               resample=resample, **kwargs)\n\u001b[1;32m   5614\u001b[0m \u001b[0;34m\u001b[0m\u001b[0m\n\u001b[0;32m-> 5615\u001b[0;31m         \u001b[0mim\u001b[0m\u001b[0;34m.\u001b[0m\u001b[0mset_data\u001b[0m\u001b[0;34m(\u001b[0m\u001b[0mX\u001b[0m\u001b[0;34m)\u001b[0m\u001b[0;34m\u001b[0m\u001b[0;34m\u001b[0m\u001b[0m\n\u001b[0m\u001b[1;32m   5616\u001b[0m         \u001b[0mim\u001b[0m\u001b[0;34m.\u001b[0m\u001b[0mset_alpha\u001b[0m\u001b[0;34m(\u001b[0m\u001b[0malpha\u001b[0m\u001b[0;34m)\u001b[0m\u001b[0;34m\u001b[0m\u001b[0;34m\u001b[0m\u001b[0m\n\u001b[1;32m   5617\u001b[0m         \u001b[0;32mif\u001b[0m \u001b[0mim\u001b[0m\u001b[0;34m.\u001b[0m\u001b[0mget_clip_path\u001b[0m\u001b[0;34m(\u001b[0m\u001b[0;34m)\u001b[0m \u001b[0;32mis\u001b[0m \u001b[0;32mNone\u001b[0m\u001b[0;34m:\u001b[0m\u001b[0;34m\u001b[0m\u001b[0;34m\u001b[0m\u001b[0m\n",
      "\u001b[0;32m~/Library/Python/3.7/lib/python/site-packages/matplotlib/image.py\u001b[0m in \u001b[0;36mset_data\u001b[0;34m(self, A)\u001b[0m\n\u001b[1;32m    697\u001b[0m                 or self._A.ndim == 3 and self._A.shape[-1] in [3, 4]):\n\u001b[1;32m    698\u001b[0m             raise TypeError(\"Invalid shape {} for image data\"\n\u001b[0;32m--> 699\u001b[0;31m                             .format(self._A.shape))\n\u001b[0m\u001b[1;32m    700\u001b[0m \u001b[0;34m\u001b[0m\u001b[0m\n\u001b[1;32m    701\u001b[0m         \u001b[0;32mif\u001b[0m \u001b[0mself\u001b[0m\u001b[0;34m.\u001b[0m\u001b[0m_A\u001b[0m\u001b[0;34m.\u001b[0m\u001b[0mndim\u001b[0m \u001b[0;34m==\u001b[0m \u001b[0;36m3\u001b[0m\u001b[0;34m:\u001b[0m\u001b[0;34m\u001b[0m\u001b[0;34m\u001b[0m\u001b[0m\n",
      "\u001b[0;31mTypeError\u001b[0m: Invalid shape (3, 64, 64) for image data"
     ]
    },
    {
     "data": {
      "image/png": "[encoded data removed]",
      "text/plain": [
       "<Figure size 432x288 with 1 Axes>"
      ]
     },
     "metadata": {
      "needs_background": "light"
     },
     "output_type": "display_data"
    }
   ],
   "source": [
    "plt.imshow(train_data[953])"
   ]
  },
  {
   "cell_type": "code",
   "execution_count": null,
   "metadata": {},
   "outputs": [],
   "source": [
    "np.random.permutation(10)"
   ]
  },
  {
   "cell_type": "code",
   "execution_count": null,
   "metadata": {},
   "outputs": [],
   "source": [
    "a = [1, 2, 3, 4]\n",
    "np.random.shuffle(a)\n",
    "a"
   ]
  },
  {
   "cell_type": "code",
   "execution_count": null,
   "metadata": {},
   "outputs": [],
   "source": [
    "\n",
    "for i in range(3):\n",
    "    print(\"yo\")\n",
    "\n"
   ]
  },
  {
   "cell_type": "markdown",
   "metadata": {},
   "source": []
  },
  {
   "cell_type": "code",
   "execution_count": null,
   "metadata": {},
   "outputs": [],
   "source": []
  },
  {
   "cell_type": "code",
   "execution_count": null,
   "metadata": {},
   "outputs": [],
   "source": [
    "a = np.array([[2,4,6,1],[1,5,2,9]])\n",
    "a\n"
   ]
  },
  {
   "cell_type": "code",
   "execution_count": null,
   "metadata": {},
   "outputs": [],
   "source": [
    "np.argmax(a, axis=1)"
   ]
  },
  {
   "cell_type": "code",
   "execution_count": null,
   "metadata": {},
   "outputs": [],
   "source": [
    "b = torch.from_numpy(a).float()\n",
    "b"
   ]
  },
  {
   "cell_type": "code",
   "execution_count": null,
   "metadata": {},
   "outputs": [],
   "source": [
    "torch.argmax(b, dim=1)"
   ]
  },
  {
   "cell_type": "code",
   "execution_count": null,
   "metadata": {},
   "outputs": [],
   "source": []
  },
  {
   "cell_type": "code",
   "execution_count": null,
   "metadata": {},
   "outputs": [],
   "source": []
  }
 ],
 "metadata": {
  "kernelspec": {
   "display_name": "Python 3",
   "language": "python",
   "name": "python3"
  },
  "language_info": {
   "codemirror_mode": {
    "name": "ipython",
    "version": 3
   },
   "file_extension": ".py",
   "mimetype": "text/x-python",
   "name": "python",
   "nbconvert_exporter": "python",
   "pygments_lexer": "ipython3",
   "version": "3.7.3"
  }
 },
 "nbformat": 4,
 "nbformat_minor": 4
}
